{
 "cells": [
  {
   "cell_type": "code",
   "execution_count": 11,
   "id": "8757db8b",
   "metadata": {},
   "outputs": [
    {
     "name": "stdout",
     "output_type": "stream",
     "text": [
      "Hi my name is Jasweer\n"
     ]
    }
   ],
   "source": [
    "print(\"Hi my name is {}\".format(\"Jasweer\", \"Naidu\"))"
   ]
  },
  {
   "cell_type": "code",
   "execution_count": 13,
   "id": "c19b4451",
   "metadata": {},
   "outputs": [
    {
     "data": {
      "text/plain": [
       "float"
      ]
     },
     "execution_count": 13,
     "metadata": {},
     "output_type": "execute_result"
    }
   ],
   "source": [
    "type(3+0.2)"
   ]
  },
  {
   "cell_type": "code",
   "execution_count": 79,
   "id": "b88f78b3",
   "metadata": {},
   "outputs": [],
   "source": [
    "strs = \" af\""
   ]
  },
  {
   "cell_type": "code",
   "execution_count": 80,
   "id": "782148cb",
   "metadata": {},
   "outputs": [
    {
     "data": {
      "text/plain": [
       "True"
      ]
     },
     "execution_count": 80,
     "metadata": {},
     "output_type": "execute_result"
    }
   ],
   "source": [
    "strs.endswith(\"af\")"
   ]
  },
  {
   "cell_type": "code",
   "execution_count": null,
   "id": "1a855e45",
   "metadata": {},
   "outputs": [],
   "source": []
  }
 ],
 "metadata": {
  "kernelspec": {
   "display_name": "Python 3",
   "language": "python",
   "name": "python3"
  },
  "language_info": {
   "codemirror_mode": {
    "name": "ipython",
    "version": 3
   },
   "file_extension": ".py",
   "mimetype": "text/x-python",
   "name": "python",
   "nbconvert_exporter": "python",
   "pygments_lexer": "ipython3",
   "version": "3.8.20"
  }
 },
 "nbformat": 4,
 "nbformat_minor": 5
}
