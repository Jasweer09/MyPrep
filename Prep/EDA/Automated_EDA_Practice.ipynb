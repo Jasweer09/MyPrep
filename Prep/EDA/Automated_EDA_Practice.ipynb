{
 "cells": [
  {
   "cell_type": "code",
   "execution_count": 1,
   "id": "fba5dcbc",
   "metadata": {},
   "outputs": [
    {
     "name": "stdout",
     "output_type": "stream",
     "text": [
      "Collecting pandas_profiling\n",
      "  Using cached pandas_profiling-3.6.6-py2.py3-none-any.whl.metadata (4.5 kB)\n",
      "Requirement already satisfied: ydata-profiling in c:\\users\\jaswe\\onedrive\\desktop\\opt\\projects\\mlproject\\venv\\lib\\site-packages (from pandas_profiling) (4.16.1)\n",
      "Requirement already satisfied: scipy<1.16,>=1.4.1 in c:\\users\\jaswe\\onedrive\\desktop\\opt\\projects\\mlproject\\venv\\lib\\site-packages (from ydata-profiling->pandas_profiling) (1.10.1)\n",
      "Requirement already satisfied: pandas!=1.4.0,<3.0,>1.1 in c:\\users\\jaswe\\onedrive\\desktop\\opt\\projects\\mlproject\\venv\\lib\\site-packages (from ydata-profiling->pandas_profiling) (2.0.3)\n",
      "Collecting matplotlib<=3.10,>=3.5 (from ydata-profiling->pandas_profiling)\n",
      "  Using cached matplotlib-3.7.5-cp38-cp38-win_amd64.whl.metadata (5.8 kB)\n",
      "Requirement already satisfied: pydantic>=2 in c:\\users\\jaswe\\onedrive\\desktop\\opt\\projects\\mlproject\\venv\\lib\\site-packages (from ydata-profiling->pandas_profiling) (2.10.6)\n",
      "Requirement already satisfied: PyYAML<6.1,>=5.0.0 in c:\\users\\jaswe\\onedrive\\desktop\\opt\\projects\\mlproject\\venv\\lib\\site-packages (from ydata-profiling->pandas_profiling) (6.0.2)\n",
      "Requirement already satisfied: jinja2<3.2,>=2.11.1 in c:\\users\\jaswe\\onedrive\\desktop\\opt\\projects\\mlproject\\venv\\lib\\site-packages (from ydata-profiling->pandas_profiling) (3.1.6)\n",
      "Requirement already satisfied: visions<0.8.2,>=0.7.5 in c:\\users\\jaswe\\onedrive\\desktop\\opt\\projects\\mlproject\\venv\\lib\\site-packages (from visions[type_image_path]<0.8.2,>=0.7.5->ydata-profiling->pandas_profiling) (0.8.1)\n",
      "Requirement already satisfied: numpy<2.2,>=1.16.0 in c:\\users\\jaswe\\onedrive\\desktop\\opt\\projects\\mlproject\\venv\\lib\\site-packages (from ydata-profiling->pandas_profiling) (1.24.4)\n",
      "Requirement already satisfied: htmlmin==0.1.12 in c:\\users\\jaswe\\onedrive\\desktop\\opt\\projects\\mlproject\\venv\\lib\\site-packages (from ydata-profiling->pandas_profiling) (0.1.12)\n",
      "Requirement already satisfied: phik<0.13,>=0.11.1 in c:\\users\\jaswe\\onedrive\\desktop\\opt\\projects\\mlproject\\venv\\lib\\site-packages (from ydata-profiling->pandas_profiling) (0.12.4)\n",
      "Requirement already satisfied: requests<3,>=2.24.0 in c:\\users\\jaswe\\onedrive\\desktop\\opt\\projects\\mlproject\\venv\\lib\\site-packages (from ydata-profiling->pandas_profiling) (2.32.4)\n",
      "Requirement already satisfied: tqdm<5,>=4.48.2 in c:\\users\\jaswe\\onedrive\\desktop\\opt\\projects\\mlproject\\venv\\lib\\site-packages (from ydata-profiling->pandas_profiling) (4.67.1)\n",
      "Requirement already satisfied: seaborn<0.14,>=0.10.1 in c:\\users\\jaswe\\onedrive\\desktop\\opt\\projects\\mlproject\\venv\\lib\\site-packages (from ydata-profiling->pandas_profiling) (0.13.2)\n",
      "Requirement already satisfied: multimethod<2,>=1.4 in c:\\users\\jaswe\\onedrive\\desktop\\opt\\projects\\mlproject\\venv\\lib\\site-packages (from ydata-profiling->pandas_profiling) (1.10)\n",
      "Requirement already satisfied: statsmodels<1,>=0.13.2 in c:\\users\\jaswe\\onedrive\\desktop\\opt\\projects\\mlproject\\venv\\lib\\site-packages (from ydata-profiling->pandas_profiling) (0.14.1)\n",
      "Requirement already satisfied: typeguard<5,>=3 in c:\\users\\jaswe\\onedrive\\desktop\\opt\\projects\\mlproject\\venv\\lib\\site-packages (from ydata-profiling->pandas_profiling) (4.4.0)\n",
      "Requirement already satisfied: imagehash==4.3.1 in c:\\users\\jaswe\\onedrive\\desktop\\opt\\projects\\mlproject\\venv\\lib\\site-packages (from ydata-profiling->pandas_profiling) (4.3.1)\n",
      "Requirement already satisfied: wordcloud>=1.9.3 in c:\\users\\jaswe\\onedrive\\desktop\\opt\\projects\\mlproject\\venv\\lib\\site-packages (from ydata-profiling->pandas_profiling) (1.9.4)\n",
      "Requirement already satisfied: dacite>=1.8 in c:\\users\\jaswe\\onedrive\\desktop\\opt\\projects\\mlproject\\venv\\lib\\site-packages (from ydata-profiling->pandas_profiling) (1.9.2)\n",
      "Requirement already satisfied: numba<=0.61,>=0.56.0 in c:\\users\\jaswe\\onedrive\\desktop\\opt\\projects\\mlproject\\venv\\lib\\site-packages (from ydata-profiling->pandas_profiling) (0.58.1)\n",
      "Requirement already satisfied: PyWavelets in c:\\users\\jaswe\\onedrive\\desktop\\opt\\projects\\mlproject\\venv\\lib\\site-packages (from imagehash==4.3.1->ydata-profiling->pandas_profiling) (1.4.1)\n",
      "Requirement already satisfied: pillow in c:\\users\\jaswe\\onedrive\\desktop\\opt\\projects\\mlproject\\venv\\lib\\site-packages (from imagehash==4.3.1->ydata-profiling->pandas_profiling) (10.4.0)\n",
      "Requirement already satisfied: MarkupSafe>=2.0 in c:\\users\\jaswe\\onedrive\\desktop\\opt\\projects\\mlproject\\venv\\lib\\site-packages (from jinja2<3.2,>=2.11.1->ydata-profiling->pandas_profiling) (2.1.5)\n",
      "Requirement already satisfied: contourpy>=1.0.1 in c:\\users\\jaswe\\onedrive\\desktop\\opt\\projects\\mlproject\\venv\\lib\\site-packages (from matplotlib<=3.10,>=3.5->ydata-profiling->pandas_profiling) (1.1.1)\n",
      "Requirement already satisfied: cycler>=0.10 in c:\\users\\jaswe\\onedrive\\desktop\\opt\\projects\\mlproject\\venv\\lib\\site-packages (from matplotlib<=3.10,>=3.5->ydata-profiling->pandas_profiling) (0.12.1)\n",
      "Requirement already satisfied: fonttools>=4.22.0 in c:\\users\\jaswe\\onedrive\\desktop\\opt\\projects\\mlproject\\venv\\lib\\site-packages (from matplotlib<=3.10,>=3.5->ydata-profiling->pandas_profiling) (4.57.0)\n",
      "Requirement already satisfied: kiwisolver>=1.0.1 in c:\\users\\jaswe\\onedrive\\desktop\\opt\\projects\\mlproject\\venv\\lib\\site-packages (from matplotlib<=3.10,>=3.5->ydata-profiling->pandas_profiling) (1.4.7)\n",
      "Requirement already satisfied: packaging>=20.0 in c:\\users\\jaswe\\onedrive\\desktop\\opt\\projects\\mlproject\\venv\\lib\\site-packages (from matplotlib<=3.10,>=3.5->ydata-profiling->pandas_profiling) (25.0)\n",
      "Requirement already satisfied: pyparsing>=2.3.1 in c:\\users\\jaswe\\onedrive\\desktop\\opt\\projects\\mlproject\\venv\\lib\\site-packages (from matplotlib<=3.10,>=3.5->ydata-profiling->pandas_profiling) (3.0.9)\n",
      "Requirement already satisfied: python-dateutil>=2.7 in c:\\users\\jaswe\\onedrive\\desktop\\opt\\projects\\mlproject\\venv\\lib\\site-packages (from matplotlib<=3.10,>=3.5->ydata-profiling->pandas_profiling) (2.9.0.post0)\n",
      "Requirement already satisfied: importlib-resources>=3.2.0 in c:\\users\\jaswe\\onedrive\\desktop\\opt\\projects\\mlproject\\venv\\lib\\site-packages (from matplotlib<=3.10,>=3.5->ydata-profiling->pandas_profiling) (6.4.5)\n",
      "Requirement already satisfied: llvmlite<0.42,>=0.41.0dev0 in c:\\users\\jaswe\\onedrive\\desktop\\opt\\projects\\mlproject\\venv\\lib\\site-packages (from numba<=0.61,>=0.56.0->ydata-profiling->pandas_profiling) (0.41.1)\n",
      "Requirement already satisfied: importlib-metadata in c:\\users\\jaswe\\onedrive\\desktop\\opt\\projects\\mlproject\\venv\\lib\\site-packages (from numba<=0.61,>=0.56.0->ydata-profiling->pandas_profiling) (8.5.0)\n",
      "Requirement already satisfied: pytz>=2020.1 in c:\\users\\jaswe\\onedrive\\desktop\\opt\\projects\\mlproject\\venv\\lib\\site-packages (from pandas!=1.4.0,<3.0,>1.1->ydata-profiling->pandas_profiling) (2025.2)\n",
      "Requirement already satisfied: tzdata>=2022.1 in c:\\users\\jaswe\\onedrive\\desktop\\opt\\projects\\mlproject\\venv\\lib\\site-packages (from pandas!=1.4.0,<3.0,>1.1->ydata-profiling->pandas_profiling) (2025.2)\n",
      "Requirement already satisfied: joblib>=0.14.1 in c:\\users\\jaswe\\onedrive\\desktop\\opt\\projects\\mlproject\\venv\\lib\\site-packages (from phik<0.13,>=0.11.1->ydata-profiling->pandas_profiling) (1.4.2)\n",
      "Requirement already satisfied: annotated-types>=0.6.0 in c:\\users\\jaswe\\onedrive\\desktop\\opt\\projects\\mlproject\\venv\\lib\\site-packages (from pydantic>=2->ydata-profiling->pandas_profiling) (0.7.0)\n",
      "Requirement already satisfied: pydantic-core==2.27.2 in c:\\users\\jaswe\\onedrive\\desktop\\opt\\projects\\mlproject\\venv\\lib\\site-packages (from pydantic>=2->ydata-profiling->pandas_profiling) (2.27.2)\n",
      "Requirement already satisfied: typing-extensions>=4.12.2 in c:\\users\\jaswe\\onedrive\\desktop\\opt\\projects\\mlproject\\venv\\lib\\site-packages (from pydantic>=2->ydata-profiling->pandas_profiling) (4.12.2)\n",
      "Requirement already satisfied: charset_normalizer<4,>=2 in c:\\users\\jaswe\\onedrive\\desktop\\opt\\projects\\mlproject\\venv\\lib\\site-packages (from requests<3,>=2.24.0->ydata-profiling->pandas_profiling) (3.4.2)\n",
      "Requirement already satisfied: idna<4,>=2.5 in c:\\users\\jaswe\\onedrive\\desktop\\opt\\projects\\mlproject\\venv\\lib\\site-packages (from requests<3,>=2.24.0->ydata-profiling->pandas_profiling) (3.10)\n",
      "Requirement already satisfied: urllib3<3,>=1.21.1 in c:\\users\\jaswe\\onedrive\\desktop\\opt\\projects\\mlproject\\venv\\lib\\site-packages (from requests<3,>=2.24.0->ydata-profiling->pandas_profiling) (2.2.3)\n",
      "Requirement already satisfied: certifi>=2017.4.17 in c:\\users\\jaswe\\onedrive\\desktop\\opt\\projects\\mlproject\\venv\\lib\\site-packages (from requests<3,>=2.24.0->ydata-profiling->pandas_profiling) (2025.4.26)\n",
      "Requirement already satisfied: patsy>=0.5.4 in c:\\users\\jaswe\\onedrive\\desktop\\opt\\projects\\mlproject\\venv\\lib\\site-packages (from statsmodels<1,>=0.13.2->ydata-profiling->pandas_profiling) (1.0.1)\n",
      "Requirement already satisfied: colorama in c:\\users\\jaswe\\onedrive\\desktop\\opt\\projects\\mlproject\\venv\\lib\\site-packages (from tqdm<5,>=4.48.2->ydata-profiling->pandas_profiling) (0.4.6)\n",
      "Requirement already satisfied: attrs>=19.3.0 in c:\\users\\jaswe\\onedrive\\desktop\\opt\\projects\\mlproject\\venv\\lib\\site-packages (from visions<0.8.2,>=0.7.5->visions[type_image_path]<0.8.2,>=0.7.5->ydata-profiling->pandas_profiling) (25.3.0)\n",
      "Requirement already satisfied: networkx>=2.4 in c:\\users\\jaswe\\onedrive\\desktop\\opt\\projects\\mlproject\\venv\\lib\\site-packages (from visions<0.8.2,>=0.7.5->visions[type_image_path]<0.8.2,>=0.7.5->ydata-profiling->pandas_profiling) (3.1)\n",
      "Requirement already satisfied: puremagic in c:\\users\\jaswe\\onedrive\\desktop\\opt\\projects\\mlproject\\venv\\lib\\site-packages (from visions<0.8.2,>=0.7.5->visions[type_image_path]<0.8.2,>=0.7.5->ydata-profiling->pandas_profiling) (1.29)\n",
      "Requirement already satisfied: zipp>=3.20 in c:\\users\\jaswe\\onedrive\\desktop\\opt\\projects\\mlproject\\venv\\lib\\site-packages (from importlib-metadata->numba<=0.61,>=0.56.0->ydata-profiling->pandas_profiling) (3.20.2)\n",
      "Requirement already satisfied: six>=1.5 in c:\\users\\jaswe\\onedrive\\desktop\\opt\\projects\\mlproject\\venv\\lib\\site-packages (from python-dateutil>=2.7->matplotlib<=3.10,>=3.5->ydata-profiling->pandas_profiling) (1.16.0)\n",
      "Using cached pandas_profiling-3.6.6-py2.py3-none-any.whl (324 kB)\n",
      "Using cached matplotlib-3.7.5-cp38-cp38-win_amd64.whl (7.5 MB)\n",
      "Installing collected packages: matplotlib, pandas_profiling\n"
     ]
    },
    {
     "name": "stderr",
     "output_type": "stream",
     "text": [
      "WARNING: Ignoring invalid distribution -atplotlib (c:\\users\\jaswe\\onedrive\\desktop\\opt\\projects\\mlproject\\venv\\lib\\site-packages)\n",
      "WARNING: Ignoring invalid distribution -atplotlib (c:\\users\\jaswe\\onedrive\\desktop\\opt\\projects\\mlproject\\venv\\lib\\site-packages)\n",
      "ERROR: Could not install packages due to an OSError: [WinError 5] Access is denied: 'C:\\\\Users\\\\jaswe\\\\OneDrive\\\\Desktop\\\\opt\\\\Projects\\\\mlproject\\\\venv\\\\Lib\\\\site-packages\\\\matplotlib\\\\ft2font.cp38-win_amd64.pyd'\n",
      "Consider using the `--user` option or check the permissions.\n",
      "\n"
     ]
    }
   ],
   "source": [
    "## Automated EDA Techniques\n",
    "!pip install pandas_profiling"
   ]
  },
  {
   "cell_type": "code",
   "execution_count": 2,
   "id": "48e9b426",
   "metadata": {},
   "outputs": [
    {
     "name": "stderr",
     "output_type": "stream",
     "text": [
      "WARNING: Ignoring invalid distribution -atplotlib (c:\\users\\jaswe\\onedrive\\desktop\\opt\\projects\\mlproject\\venv\\lib\\site-packages)\n",
      "WARNING: Skipping pandas-profiling as it is not installed.\n"
     ]
    },
    {
     "name": "stdout",
     "output_type": "stream",
     "text": [
      "Requirement already satisfied: ydata-profiling in c:\\users\\jaswe\\onedrive\\desktop\\opt\\projects\\mlproject\\venv\\lib\\site-packages (4.16.1)\n",
      "Requirement already satisfied: scipy<1.16,>=1.4.1 in c:\\users\\jaswe\\onedrive\\desktop\\opt\\projects\\mlproject\\venv\\lib\\site-packages (from ydata-profiling) (1.10.1)\n",
      "Requirement already satisfied: pandas!=1.4.0,<3.0,>1.1 in c:\\users\\jaswe\\onedrive\\desktop\\opt\\projects\\mlproject\\venv\\lib\\site-packages (from ydata-profiling) (2.0.3)\n",
      "Collecting matplotlib<=3.10,>=3.5 (from ydata-profiling)\n",
      "  Using cached matplotlib-3.7.5-cp38-cp38-win_amd64.whl.metadata (5.8 kB)\n",
      "Requirement already satisfied: pydantic>=2 in c:\\users\\jaswe\\onedrive\\desktop\\opt\\projects\\mlproject\\venv\\lib\\site-packages (from ydata-profiling) (2.10.6)\n",
      "Requirement already satisfied: PyYAML<6.1,>=5.0.0 in c:\\users\\jaswe\\onedrive\\desktop\\opt\\projects\\mlproject\\venv\\lib\\site-packages (from ydata-profiling) (6.0.2)\n",
      "Requirement already satisfied: jinja2<3.2,>=2.11.1 in c:\\users\\jaswe\\onedrive\\desktop\\opt\\projects\\mlproject\\venv\\lib\\site-packages (from ydata-profiling) (3.1.6)\n",
      "Requirement already satisfied: visions<0.8.2,>=0.7.5 in c:\\users\\jaswe\\onedrive\\desktop\\opt\\projects\\mlproject\\venv\\lib\\site-packages (from visions[type_image_path]<0.8.2,>=0.7.5->ydata-profiling) (0.8.1)\n",
      "Requirement already satisfied: numpy<2.2,>=1.16.0 in c:\\users\\jaswe\\onedrive\\desktop\\opt\\projects\\mlproject\\venv\\lib\\site-packages (from ydata-profiling) (1.24.4)\n",
      "Requirement already satisfied: htmlmin==0.1.12 in c:\\users\\jaswe\\onedrive\\desktop\\opt\\projects\\mlproject\\venv\\lib\\site-packages (from ydata-profiling) (0.1.12)\n",
      "Requirement already satisfied: phik<0.13,>=0.11.1 in c:\\users\\jaswe\\onedrive\\desktop\\opt\\projects\\mlproject\\venv\\lib\\site-packages (from ydata-profiling) (0.12.4)\n",
      "Requirement already satisfied: requests<3,>=2.24.0 in c:\\users\\jaswe\\onedrive\\desktop\\opt\\projects\\mlproject\\venv\\lib\\site-packages (from ydata-profiling) (2.32.4)\n",
      "Requirement already satisfied: tqdm<5,>=4.48.2 in c:\\users\\jaswe\\onedrive\\desktop\\opt\\projects\\mlproject\\venv\\lib\\site-packages (from ydata-profiling) (4.67.1)\n",
      "Requirement already satisfied: seaborn<0.14,>=0.10.1 in c:\\users\\jaswe\\onedrive\\desktop\\opt\\projects\\mlproject\\venv\\lib\\site-packages (from ydata-profiling) (0.13.2)\n",
      "Requirement already satisfied: multimethod<2,>=1.4 in c:\\users\\jaswe\\onedrive\\desktop\\opt\\projects\\mlproject\\venv\\lib\\site-packages (from ydata-profiling) (1.10)\n",
      "Requirement already satisfied: statsmodels<1,>=0.13.2 in c:\\users\\jaswe\\onedrive\\desktop\\opt\\projects\\mlproject\\venv\\lib\\site-packages (from ydata-profiling) (0.14.1)\n",
      "Requirement already satisfied: typeguard<5,>=3 in c:\\users\\jaswe\\onedrive\\desktop\\opt\\projects\\mlproject\\venv\\lib\\site-packages (from ydata-profiling) (4.4.0)\n",
      "Requirement already satisfied: imagehash==4.3.1 in c:\\users\\jaswe\\onedrive\\desktop\\opt\\projects\\mlproject\\venv\\lib\\site-packages (from ydata-profiling) (4.3.1)\n",
      "Requirement already satisfied: wordcloud>=1.9.3 in c:\\users\\jaswe\\onedrive\\desktop\\opt\\projects\\mlproject\\venv\\lib\\site-packages (from ydata-profiling) (1.9.4)\n",
      "Requirement already satisfied: dacite>=1.8 in c:\\users\\jaswe\\onedrive\\desktop\\opt\\projects\\mlproject\\venv\\lib\\site-packages (from ydata-profiling) (1.9.2)\n",
      "Requirement already satisfied: numba<=0.61,>=0.56.0 in c:\\users\\jaswe\\onedrive\\desktop\\opt\\projects\\mlproject\\venv\\lib\\site-packages (from ydata-profiling) (0.58.1)\n",
      "Requirement already satisfied: PyWavelets in c:\\users\\jaswe\\onedrive\\desktop\\opt\\projects\\mlproject\\venv\\lib\\site-packages (from imagehash==4.3.1->ydata-profiling) (1.4.1)\n",
      "Requirement already satisfied: pillow in c:\\users\\jaswe\\onedrive\\desktop\\opt\\projects\\mlproject\\venv\\lib\\site-packages (from imagehash==4.3.1->ydata-profiling) (10.4.0)\n",
      "Requirement already satisfied: MarkupSafe>=2.0 in c:\\users\\jaswe\\onedrive\\desktop\\opt\\projects\\mlproject\\venv\\lib\\site-packages (from jinja2<3.2,>=2.11.1->ydata-profiling) (2.1.5)\n",
      "Requirement already satisfied: contourpy>=1.0.1 in c:\\users\\jaswe\\onedrive\\desktop\\opt\\projects\\mlproject\\venv\\lib\\site-packages (from matplotlib<=3.10,>=3.5->ydata-profiling) (1.1.1)\n",
      "Requirement already satisfied: cycler>=0.10 in c:\\users\\jaswe\\onedrive\\desktop\\opt\\projects\\mlproject\\venv\\lib\\site-packages (from matplotlib<=3.10,>=3.5->ydata-profiling) (0.12.1)\n",
      "Requirement already satisfied: fonttools>=4.22.0 in c:\\users\\jaswe\\onedrive\\desktop\\opt\\projects\\mlproject\\venv\\lib\\site-packages (from matplotlib<=3.10,>=3.5->ydata-profiling) (4.57.0)\n",
      "Requirement already satisfied: kiwisolver>=1.0.1 in c:\\users\\jaswe\\onedrive\\desktop\\opt\\projects\\mlproject\\venv\\lib\\site-packages (from matplotlib<=3.10,>=3.5->ydata-profiling) (1.4.7)\n",
      "Requirement already satisfied: packaging>=20.0 in c:\\users\\jaswe\\onedrive\\desktop\\opt\\projects\\mlproject\\venv\\lib\\site-packages (from matplotlib<=3.10,>=3.5->ydata-profiling) (25.0)\n",
      "Requirement already satisfied: pyparsing>=2.3.1 in c:\\users\\jaswe\\onedrive\\desktop\\opt\\projects\\mlproject\\venv\\lib\\site-packages (from matplotlib<=3.10,>=3.5->ydata-profiling) (3.0.9)\n",
      "Requirement already satisfied: python-dateutil>=2.7 in c:\\users\\jaswe\\onedrive\\desktop\\opt\\projects\\mlproject\\venv\\lib\\site-packages (from matplotlib<=3.10,>=3.5->ydata-profiling) (2.9.0.post0)\n",
      "Requirement already satisfied: importlib-resources>=3.2.0 in c:\\users\\jaswe\\onedrive\\desktop\\opt\\projects\\mlproject\\venv\\lib\\site-packages (from matplotlib<=3.10,>=3.5->ydata-profiling) (6.4.5)\n",
      "Requirement already satisfied: llvmlite<0.42,>=0.41.0dev0 in c:\\users\\jaswe\\onedrive\\desktop\\opt\\projects\\mlproject\\venv\\lib\\site-packages (from numba<=0.61,>=0.56.0->ydata-profiling) (0.41.1)\n",
      "Requirement already satisfied: importlib-metadata in c:\\users\\jaswe\\onedrive\\desktop\\opt\\projects\\mlproject\\venv\\lib\\site-packages (from numba<=0.61,>=0.56.0->ydata-profiling) (8.5.0)\n",
      "Requirement already satisfied: pytz>=2020.1 in c:\\users\\jaswe\\onedrive\\desktop\\opt\\projects\\mlproject\\venv\\lib\\site-packages (from pandas!=1.4.0,<3.0,>1.1->ydata-profiling) (2025.2)\n",
      "Requirement already satisfied: tzdata>=2022.1 in c:\\users\\jaswe\\onedrive\\desktop\\opt\\projects\\mlproject\\venv\\lib\\site-packages (from pandas!=1.4.0,<3.0,>1.1->ydata-profiling) (2025.2)\n",
      "Requirement already satisfied: joblib>=0.14.1 in c:\\users\\jaswe\\onedrive\\desktop\\opt\\projects\\mlproject\\venv\\lib\\site-packages (from phik<0.13,>=0.11.1->ydata-profiling) (1.4.2)\n",
      "Requirement already satisfied: annotated-types>=0.6.0 in c:\\users\\jaswe\\onedrive\\desktop\\opt\\projects\\mlproject\\venv\\lib\\site-packages (from pydantic>=2->ydata-profiling) (0.7.0)\n",
      "Requirement already satisfied: pydantic-core==2.27.2 in c:\\users\\jaswe\\onedrive\\desktop\\opt\\projects\\mlproject\\venv\\lib\\site-packages (from pydantic>=2->ydata-profiling) (2.27.2)\n",
      "Requirement already satisfied: typing-extensions>=4.12.2 in c:\\users\\jaswe\\onedrive\\desktop\\opt\\projects\\mlproject\\venv\\lib\\site-packages (from pydantic>=2->ydata-profiling) (4.12.2)\n",
      "Requirement already satisfied: charset_normalizer<4,>=2 in c:\\users\\jaswe\\onedrive\\desktop\\opt\\projects\\mlproject\\venv\\lib\\site-packages (from requests<3,>=2.24.0->ydata-profiling) (3.4.2)\n",
      "Requirement already satisfied: idna<4,>=2.5 in c:\\users\\jaswe\\onedrive\\desktop\\opt\\projects\\mlproject\\venv\\lib\\site-packages (from requests<3,>=2.24.0->ydata-profiling) (3.10)\n",
      "Requirement already satisfied: urllib3<3,>=1.21.1 in c:\\users\\jaswe\\onedrive\\desktop\\opt\\projects\\mlproject\\venv\\lib\\site-packages (from requests<3,>=2.24.0->ydata-profiling) (2.2.3)\n",
      "Requirement already satisfied: certifi>=2017.4.17 in c:\\users\\jaswe\\onedrive\\desktop\\opt\\projects\\mlproject\\venv\\lib\\site-packages (from requests<3,>=2.24.0->ydata-profiling) (2025.4.26)\n",
      "Requirement already satisfied: patsy>=0.5.4 in c:\\users\\jaswe\\onedrive\\desktop\\opt\\projects\\mlproject\\venv\\lib\\site-packages (from statsmodels<1,>=0.13.2->ydata-profiling) (1.0.1)\n",
      "Requirement already satisfied: colorama in c:\\users\\jaswe\\onedrive\\desktop\\opt\\projects\\mlproject\\venv\\lib\\site-packages (from tqdm<5,>=4.48.2->ydata-profiling) (0.4.6)\n",
      "Requirement already satisfied: attrs>=19.3.0 in c:\\users\\jaswe\\onedrive\\desktop\\opt\\projects\\mlproject\\venv\\lib\\site-packages (from visions<0.8.2,>=0.7.5->visions[type_image_path]<0.8.2,>=0.7.5->ydata-profiling) (25.3.0)\n",
      "Requirement already satisfied: networkx>=2.4 in c:\\users\\jaswe\\onedrive\\desktop\\opt\\projects\\mlproject\\venv\\lib\\site-packages (from visions<0.8.2,>=0.7.5->visions[type_image_path]<0.8.2,>=0.7.5->ydata-profiling) (3.1)\n",
      "Requirement already satisfied: puremagic in c:\\users\\jaswe\\onedrive\\desktop\\opt\\projects\\mlproject\\venv\\lib\\site-packages (from visions<0.8.2,>=0.7.5->visions[type_image_path]<0.8.2,>=0.7.5->ydata-profiling) (1.29)\n",
      "Requirement already satisfied: zipp>=3.20 in c:\\users\\jaswe\\onedrive\\desktop\\opt\\projects\\mlproject\\venv\\lib\\site-packages (from importlib-metadata->numba<=0.61,>=0.56.0->ydata-profiling) (3.20.2)\n",
      "Requirement already satisfied: six>=1.5 in c:\\users\\jaswe\\onedrive\\desktop\\opt\\projects\\mlproject\\venv\\lib\\site-packages (from python-dateutil>=2.7->matplotlib<=3.10,>=3.5->ydata-profiling) (1.16.0)\n",
      "Using cached matplotlib-3.7.5-cp38-cp38-win_amd64.whl (7.5 MB)\n",
      "Installing collected packages: matplotlib\n"
     ]
    },
    {
     "name": "stderr",
     "output_type": "stream",
     "text": [
      "WARNING: Ignoring invalid distribution -atplotlib (c:\\users\\jaswe\\onedrive\\desktop\\opt\\projects\\mlproject\\venv\\lib\\site-packages)\n",
      "WARNING: Ignoring invalid distribution -atplotlib (c:\\users\\jaswe\\onedrive\\desktop\\opt\\projects\\mlproject\\venv\\lib\\site-packages)\n",
      "ERROR: Could not install packages due to an OSError: [WinError 5] Access is denied: 'C:\\\\Users\\\\jaswe\\\\OneDrive\\\\Desktop\\\\opt\\\\Projects\\\\mlproject\\\\venv\\\\Lib\\\\site-packages\\\\matplotlib\\\\ft2font.cp38-win_amd64.pyd'\n",
      "Consider using the `--user` option or check the permissions.\n",
      "\n"
     ]
    }
   ],
   "source": [
    "!pip uninstall pandas-profiling -y\n",
    "!pip install ydata-profiling"
   ]
  },
  {
   "cell_type": "code",
   "execution_count": 3,
   "id": "e71e2a4b",
   "metadata": {},
   "outputs": [
    {
     "ename": "ImportError",
     "evalue": "DLL load failed while importing _path: The specified module could not be found.",
     "output_type": "error",
     "traceback": [
      "\u001b[1;31m---------------------------------------------------------------------------\u001b[0m",
      "\u001b[1;31mImportError\u001b[0m                               Traceback (most recent call last)",
      "Cell \u001b[1;32mIn[3], line 1\u001b[0m\n\u001b[1;32m----> 1\u001b[0m \u001b[38;5;28;01mfrom\u001b[39;00m \u001b[38;5;21;01mydata_profiling\u001b[39;00m \u001b[38;5;28;01mimport\u001b[39;00m ProfileReport\n",
      "File \u001b[1;32mc:\\Users\\jaswe\\OneDrive\\Desktop\\opt\\Projects\\mlproject\\venv\\lib\\site-packages\\ydata_profiling\\__init__.py:10\u001b[0m\n\u001b[0;32m      6\u001b[0m \u001b[38;5;28;01mimport\u001b[39;00m \u001b[38;5;21;01mwarnings\u001b[39;00m  \u001b[38;5;66;03m# isort:skip # noqa\u001b[39;00m\n\u001b[0;32m      8\u001b[0m \u001b[38;5;28;01mimport\u001b[39;00m \u001b[38;5;21;01mimportlib\u001b[39;00m\u001b[38;5;21;01m.\u001b[39;00m\u001b[38;5;21;01mutil\u001b[39;00m  \u001b[38;5;66;03m# isort:skip # noqa\u001b[39;00m\n\u001b[1;32m---> 10\u001b[0m \u001b[38;5;28;01mfrom\u001b[39;00m \u001b[38;5;21;01mydata_profiling\u001b[39;00m\u001b[38;5;21;01m.\u001b[39;00m\u001b[38;5;21;01mcompare_reports\u001b[39;00m \u001b[38;5;28;01mimport\u001b[39;00m compare  \u001b[38;5;66;03m# isort:skip # noqa\u001b[39;00m\n\u001b[0;32m     11\u001b[0m \u001b[38;5;28;01mfrom\u001b[39;00m \u001b[38;5;21;01mydata_profiling\u001b[39;00m\u001b[38;5;21;01m.\u001b[39;00m\u001b[38;5;21;01mcontroller\u001b[39;00m \u001b[38;5;28;01mimport\u001b[39;00m pandas_decorator  \u001b[38;5;66;03m# isort:skip # noqa\u001b[39;00m\n\u001b[0;32m     12\u001b[0m \u001b[38;5;28;01mfrom\u001b[39;00m \u001b[38;5;21;01mydata_profiling\u001b[39;00m\u001b[38;5;21;01m.\u001b[39;00m\u001b[38;5;21;01mprofile_report\u001b[39;00m \u001b[38;5;28;01mimport\u001b[39;00m ProfileReport  \u001b[38;5;66;03m# isort:skip # noqa\u001b[39;00m\n",
      "File \u001b[1;32mc:\\Users\\jaswe\\OneDrive\\Desktop\\opt\\Projects\\mlproject\\venv\\lib\\site-packages\\ydata_profiling\\compare_reports.py:12\u001b[0m\n\u001b[0;32m     10\u001b[0m \u001b[38;5;28;01mfrom\u001b[39;00m \u001b[38;5;21;01mydata_profiling\u001b[39;00m\u001b[38;5;21;01m.\u001b[39;00m\u001b[38;5;21;01mmodel\u001b[39;00m \u001b[38;5;28;01mimport\u001b[39;00m BaseDescription\n\u001b[0;32m     11\u001b[0m \u001b[38;5;28;01mfrom\u001b[39;00m \u001b[38;5;21;01mydata_profiling\u001b[39;00m\u001b[38;5;21;01m.\u001b[39;00m\u001b[38;5;21;01mmodel\u001b[39;00m\u001b[38;5;21;01m.\u001b[39;00m\u001b[38;5;21;01malerts\u001b[39;00m \u001b[38;5;28;01mimport\u001b[39;00m Alert\n\u001b[1;32m---> 12\u001b[0m \u001b[38;5;28;01mfrom\u001b[39;00m \u001b[38;5;21;01mydata_profiling\u001b[39;00m\u001b[38;5;21;01m.\u001b[39;00m\u001b[38;5;21;01mprofile_report\u001b[39;00m \u001b[38;5;28;01mimport\u001b[39;00m ProfileReport\n\u001b[0;32m     15\u001b[0m \u001b[38;5;28;01mdef\u001b[39;00m \u001b[38;5;21m_should_wrap\u001b[39m(v1: Any, v2: Any) \u001b[38;5;241m-\u001b[39m\u001b[38;5;241m>\u001b[39m \u001b[38;5;28mbool\u001b[39m:\n\u001b[0;32m     16\u001b[0m     \u001b[38;5;28;01mif\u001b[39;00m \u001b[38;5;28misinstance\u001b[39m(v1, (\u001b[38;5;28mlist\u001b[39m, \u001b[38;5;28mdict\u001b[39m)):\n",
      "File \u001b[1;32mc:\\Users\\jaswe\\OneDrive\\Desktop\\opt\\Projects\\mlproject\\venv\\lib\\site-packages\\ydata_profiling\\profile_report.py:32\u001b[0m\n\u001b[0;32m     30\u001b[0m \u001b[38;5;28;01mfrom\u001b[39;00m \u001b[38;5;21;01mydata_profiling\u001b[39;00m\u001b[38;5;21;01m.\u001b[39;00m\u001b[38;5;21;01mmodel\u001b[39;00m \u001b[38;5;28;01mimport\u001b[39;00m BaseDescription\n\u001b[0;32m     31\u001b[0m \u001b[38;5;28;01mfrom\u001b[39;00m \u001b[38;5;21;01mydata_profiling\u001b[39;00m\u001b[38;5;21;01m.\u001b[39;00m\u001b[38;5;21;01mmodel\u001b[39;00m\u001b[38;5;21;01m.\u001b[39;00m\u001b[38;5;21;01malerts\u001b[39;00m \u001b[38;5;28;01mimport\u001b[39;00m AlertType\n\u001b[1;32m---> 32\u001b[0m \u001b[38;5;28;01mfrom\u001b[39;00m \u001b[38;5;21;01mydata_profiling\u001b[39;00m\u001b[38;5;21;01m.\u001b[39;00m\u001b[38;5;21;01mmodel\u001b[39;00m\u001b[38;5;21;01m.\u001b[39;00m\u001b[38;5;21;01mdescribe\u001b[39;00m \u001b[38;5;28;01mimport\u001b[39;00m describe \u001b[38;5;28;01mas\u001b[39;00m describe_df\n\u001b[0;32m     33\u001b[0m \u001b[38;5;28;01mfrom\u001b[39;00m \u001b[38;5;21;01mydata_profiling\u001b[39;00m\u001b[38;5;21;01m.\u001b[39;00m\u001b[38;5;21;01mmodel\u001b[39;00m\u001b[38;5;21;01m.\u001b[39;00m\u001b[38;5;21;01msample\u001b[39;00m \u001b[38;5;28;01mimport\u001b[39;00m Sample\n\u001b[0;32m     34\u001b[0m \u001b[38;5;28;01mfrom\u001b[39;00m \u001b[38;5;21;01mydata_profiling\u001b[39;00m\u001b[38;5;21;01m.\u001b[39;00m\u001b[38;5;21;01mmodel\u001b[39;00m\u001b[38;5;21;01m.\u001b[39;00m\u001b[38;5;21;01msummarizer\u001b[39;00m \u001b[38;5;28;01mimport\u001b[39;00m (\n\u001b[0;32m     35\u001b[0m     BaseSummarizer,\n\u001b[0;32m     36\u001b[0m     ProfilingSummarizer,\n\u001b[0;32m     37\u001b[0m     format_summary,\n\u001b[0;32m     38\u001b[0m     redact_summary,\n\u001b[0;32m     39\u001b[0m )\n",
      "File \u001b[1;32mc:\\Users\\jaswe\\OneDrive\\Desktop\\opt\\Projects\\mlproject\\venv\\lib\\site-packages\\ydata_profiling\\model\\describe.py:20\u001b[0m\n\u001b[0;32m     18\u001b[0m \u001b[38;5;28;01mfrom\u001b[39;00m \u001b[38;5;21;01mydata_profiling\u001b[39;00m\u001b[38;5;21;01m.\u001b[39;00m\u001b[38;5;21;01mmodel\u001b[39;00m\u001b[38;5;21;01m.\u001b[39;00m\u001b[38;5;21;01mduplicates\u001b[39;00m \u001b[38;5;28;01mimport\u001b[39;00m get_duplicates\n\u001b[0;32m     19\u001b[0m \u001b[38;5;28;01mfrom\u001b[39;00m \u001b[38;5;21;01mydata_profiling\u001b[39;00m\u001b[38;5;21;01m.\u001b[39;00m\u001b[38;5;21;01mmodel\u001b[39;00m\u001b[38;5;21;01m.\u001b[39;00m\u001b[38;5;21;01mmissing\u001b[39;00m \u001b[38;5;28;01mimport\u001b[39;00m get_missing_active, get_missing_diagram\n\u001b[1;32m---> 20\u001b[0m \u001b[38;5;28;01mfrom\u001b[39;00m \u001b[38;5;21;01mydata_profiling\u001b[39;00m\u001b[38;5;21;01m.\u001b[39;00m\u001b[38;5;21;01mmodel\u001b[39;00m\u001b[38;5;21;01m.\u001b[39;00m\u001b[38;5;21;01mpairwise\u001b[39;00m \u001b[38;5;28;01mimport\u001b[39;00m get_scatter_plot, get_scatter_tasks\n\u001b[0;32m     21\u001b[0m \u001b[38;5;28;01mfrom\u001b[39;00m \u001b[38;5;21;01mydata_profiling\u001b[39;00m\u001b[38;5;21;01m.\u001b[39;00m\u001b[38;5;21;01mmodel\u001b[39;00m\u001b[38;5;21;01m.\u001b[39;00m\u001b[38;5;21;01msample\u001b[39;00m \u001b[38;5;28;01mimport\u001b[39;00m get_custom_sample, get_sample\n\u001b[0;32m     22\u001b[0m \u001b[38;5;28;01mfrom\u001b[39;00m \u001b[38;5;21;01mydata_profiling\u001b[39;00m\u001b[38;5;21;01m.\u001b[39;00m\u001b[38;5;21;01mmodel\u001b[39;00m\u001b[38;5;21;01m.\u001b[39;00m\u001b[38;5;21;01msummarizer\u001b[39;00m \u001b[38;5;28;01mimport\u001b[39;00m BaseSummarizer\n",
      "File \u001b[1;32mc:\\Users\\jaswe\\OneDrive\\Desktop\\opt\\Projects\\mlproject\\venv\\lib\\site-packages\\ydata_profiling\\model\\pairwise.py:6\u001b[0m\n\u001b[0;32m      3\u001b[0m \u001b[38;5;28;01mimport\u001b[39;00m \u001b[38;5;21;01mpandas\u001b[39;00m \u001b[38;5;28;01mas\u001b[39;00m \u001b[38;5;21;01mpd\u001b[39;00m\n\u001b[0;32m      5\u001b[0m \u001b[38;5;28;01mfrom\u001b[39;00m \u001b[38;5;21;01mydata_profiling\u001b[39;00m\u001b[38;5;21;01m.\u001b[39;00m\u001b[38;5;21;01mconfig\u001b[39;00m \u001b[38;5;28;01mimport\u001b[39;00m Settings\n\u001b[1;32m----> 6\u001b[0m \u001b[38;5;28;01mfrom\u001b[39;00m \u001b[38;5;21;01mydata_profiling\u001b[39;00m\u001b[38;5;21;01m.\u001b[39;00m\u001b[38;5;21;01mvisualisation\u001b[39;00m\u001b[38;5;21;01m.\u001b[39;00m\u001b[38;5;21;01mplot\u001b[39;00m \u001b[38;5;28;01mimport\u001b[39;00m scatter_pairwise\n\u001b[0;32m      9\u001b[0m \u001b[38;5;28;01mdef\u001b[39;00m \u001b[38;5;21mget_scatter_tasks\u001b[39m(\n\u001b[0;32m     10\u001b[0m     config: Settings, continuous_variables: \u001b[38;5;28mlist\u001b[39m\n\u001b[0;32m     11\u001b[0m ) \u001b[38;5;241m-\u001b[39m\u001b[38;5;241m>\u001b[39m List[Tuple[Any, Any]]:\n\u001b[0;32m     12\u001b[0m     \u001b[38;5;28;01mif\u001b[39;00m \u001b[38;5;129;01mnot\u001b[39;00m config\u001b[38;5;241m.\u001b[39minteractions\u001b[38;5;241m.\u001b[39mcontinuous:\n",
      "File \u001b[1;32mc:\\Users\\jaswe\\OneDrive\\Desktop\\opt\\Projects\\mlproject\\venv\\lib\\site-packages\\ydata_profiling\\visualisation\\plot.py:5\u001b[0m\n\u001b[0;32m      2\u001b[0m \u001b[38;5;28;01mimport\u001b[39;00m \u001b[38;5;21;01mcopy\u001b[39;00m\n\u001b[0;32m      3\u001b[0m \u001b[38;5;28;01mfrom\u001b[39;00m \u001b[38;5;21;01mtyping\u001b[39;00m \u001b[38;5;28;01mimport\u001b[39;00m Any, Callable, List, Optional, Tuple, Union\n\u001b[1;32m----> 5\u001b[0m \u001b[38;5;28;01mimport\u001b[39;00m \u001b[38;5;21;01mmatplotlib\u001b[39;00m\n\u001b[0;32m      6\u001b[0m \u001b[38;5;28;01mimport\u001b[39;00m \u001b[38;5;21;01mnumpy\u001b[39;00m \u001b[38;5;28;01mas\u001b[39;00m \u001b[38;5;21;01mnp\u001b[39;00m\n\u001b[0;32m      7\u001b[0m \u001b[38;5;28;01mimport\u001b[39;00m \u001b[38;5;21;01mpandas\u001b[39;00m \u001b[38;5;28;01mas\u001b[39;00m \u001b[38;5;21;01mpd\u001b[39;00m\n",
      "File \u001b[1;32mc:\\Users\\jaswe\\OneDrive\\Desktop\\opt\\Projects\\mlproject\\venv\\lib\\site-packages\\matplotlib\\__init__.py:157\u001b[0m\n\u001b[0;32m    153\u001b[0m \u001b[38;5;28;01mfrom\u001b[39;00m \u001b[38;5;21;01mpackaging\u001b[39;00m\u001b[38;5;21;01m.\u001b[39;00m\u001b[38;5;21;01mversion\u001b[39;00m \u001b[38;5;28;01mimport\u001b[39;00m parse \u001b[38;5;28;01mas\u001b[39;00m parse_version\n\u001b[0;32m    155\u001b[0m \u001b[38;5;66;03m# cbook must import matplotlib only within function\u001b[39;00m\n\u001b[0;32m    156\u001b[0m \u001b[38;5;66;03m# definitions, so it is safe to import from it here.\u001b[39;00m\n\u001b[1;32m--> 157\u001b[0m \u001b[38;5;28;01mfrom\u001b[39;00m \u001b[38;5;21;01m.\u001b[39;00m \u001b[38;5;28;01mimport\u001b[39;00m _api, _version, cbook, _docstring, rcsetup\n\u001b[0;32m    158\u001b[0m \u001b[38;5;28;01mfrom\u001b[39;00m \u001b[38;5;21;01mmatplotlib\u001b[39;00m\u001b[38;5;21;01m.\u001b[39;00m\u001b[38;5;21;01mcbook\u001b[39;00m \u001b[38;5;28;01mimport\u001b[39;00m sanitize_sequence\n\u001b[0;32m    159\u001b[0m \u001b[38;5;28;01mfrom\u001b[39;00m \u001b[38;5;21;01mmatplotlib\u001b[39;00m\u001b[38;5;21;01m.\u001b[39;00m\u001b[38;5;21;01m_api\u001b[39;00m \u001b[38;5;28;01mimport\u001b[39;00m MatplotlibDeprecationWarning\n",
      "File \u001b[1;32mc:\\Users\\jaswe\\OneDrive\\Desktop\\opt\\Projects\\mlproject\\venv\\lib\\site-packages\\matplotlib\\rcsetup.py:27\u001b[0m\n\u001b[0;32m     25\u001b[0m \u001b[38;5;28;01mfrom\u001b[39;00m \u001b[38;5;21;01mmatplotlib\u001b[39;00m \u001b[38;5;28;01mimport\u001b[39;00m _api, cbook\n\u001b[0;32m     26\u001b[0m \u001b[38;5;28;01mfrom\u001b[39;00m \u001b[38;5;21;01mmatplotlib\u001b[39;00m\u001b[38;5;21;01m.\u001b[39;00m\u001b[38;5;21;01mcbook\u001b[39;00m \u001b[38;5;28;01mimport\u001b[39;00m ls_mapper\n\u001b[1;32m---> 27\u001b[0m \u001b[38;5;28;01mfrom\u001b[39;00m \u001b[38;5;21;01mmatplotlib\u001b[39;00m\u001b[38;5;21;01m.\u001b[39;00m\u001b[38;5;21;01mcolors\u001b[39;00m \u001b[38;5;28;01mimport\u001b[39;00m Colormap, is_color_like\n\u001b[0;32m     28\u001b[0m \u001b[38;5;28;01mfrom\u001b[39;00m \u001b[38;5;21;01mmatplotlib\u001b[39;00m\u001b[38;5;21;01m.\u001b[39;00m\u001b[38;5;21;01m_fontconfig_pattern\u001b[39;00m \u001b[38;5;28;01mimport\u001b[39;00m parse_fontconfig_pattern\n\u001b[0;32m     29\u001b[0m \u001b[38;5;28;01mfrom\u001b[39;00m \u001b[38;5;21;01mmatplotlib\u001b[39;00m\u001b[38;5;21;01m.\u001b[39;00m\u001b[38;5;21;01m_enums\u001b[39;00m \u001b[38;5;28;01mimport\u001b[39;00m JoinStyle, CapStyle\n",
      "File \u001b[1;32mc:\\Users\\jaswe\\OneDrive\\Desktop\\opt\\Projects\\mlproject\\venv\\lib\\site-packages\\matplotlib\\colors.py:56\u001b[0m\n\u001b[0;32m     54\u001b[0m \u001b[38;5;28;01mimport\u001b[39;00m \u001b[38;5;21;01mmatplotlib\u001b[39;00m \u001b[38;5;28;01mas\u001b[39;00m \u001b[38;5;21;01mmpl\u001b[39;00m\n\u001b[0;32m     55\u001b[0m \u001b[38;5;28;01mimport\u001b[39;00m \u001b[38;5;21;01mnumpy\u001b[39;00m \u001b[38;5;28;01mas\u001b[39;00m \u001b[38;5;21;01mnp\u001b[39;00m\n\u001b[1;32m---> 56\u001b[0m \u001b[38;5;28;01mfrom\u001b[39;00m \u001b[38;5;21;01mmatplotlib\u001b[39;00m \u001b[38;5;28;01mimport\u001b[39;00m _api, _cm, cbook, scale\n\u001b[0;32m     57\u001b[0m \u001b[38;5;28;01mfrom\u001b[39;00m \u001b[38;5;21;01m.\u001b[39;00m\u001b[38;5;21;01m_color_data\u001b[39;00m \u001b[38;5;28;01mimport\u001b[39;00m BASE_COLORS, TABLEAU_COLORS, CSS4_COLORS, XKCD_COLORS\n\u001b[0;32m     60\u001b[0m \u001b[38;5;28;01mclass\u001b[39;00m \u001b[38;5;21;01m_ColorMapping\u001b[39;00m(\u001b[38;5;28mdict\u001b[39m):\n",
      "File \u001b[1;32mc:\\Users\\jaswe\\OneDrive\\Desktop\\opt\\Projects\\mlproject\\venv\\lib\\site-packages\\matplotlib\\scale.py:22\u001b[0m\n\u001b[0;32m     20\u001b[0m \u001b[38;5;28;01mimport\u001b[39;00m \u001b[38;5;21;01mmatplotlib\u001b[39;00m \u001b[38;5;28;01mas\u001b[39;00m \u001b[38;5;21;01mmpl\u001b[39;00m\n\u001b[0;32m     21\u001b[0m \u001b[38;5;28;01mfrom\u001b[39;00m \u001b[38;5;21;01mmatplotlib\u001b[39;00m \u001b[38;5;28;01mimport\u001b[39;00m _api, _docstring\n\u001b[1;32m---> 22\u001b[0m \u001b[38;5;28;01mfrom\u001b[39;00m \u001b[38;5;21;01mmatplotlib\u001b[39;00m\u001b[38;5;21;01m.\u001b[39;00m\u001b[38;5;21;01mticker\u001b[39;00m \u001b[38;5;28;01mimport\u001b[39;00m (\n\u001b[0;32m     23\u001b[0m     NullFormatter, ScalarFormatter, LogFormatterSciNotation, LogitFormatter,\n\u001b[0;32m     24\u001b[0m     NullLocator, LogLocator, AutoLocator, AutoMinorLocator,\n\u001b[0;32m     25\u001b[0m     SymmetricalLogLocator, AsinhLocator, LogitLocator)\n\u001b[0;32m     26\u001b[0m \u001b[38;5;28;01mfrom\u001b[39;00m \u001b[38;5;21;01mmatplotlib\u001b[39;00m\u001b[38;5;21;01m.\u001b[39;00m\u001b[38;5;21;01mtransforms\u001b[39;00m \u001b[38;5;28;01mimport\u001b[39;00m Transform, IdentityTransform\n\u001b[0;32m     29\u001b[0m \u001b[38;5;28;01mclass\u001b[39;00m \u001b[38;5;21;01mScaleBase\u001b[39;00m:\n",
      "File \u001b[1;32mc:\\Users\\jaswe\\OneDrive\\Desktop\\opt\\Projects\\mlproject\\venv\\lib\\site-packages\\matplotlib\\ticker.py:138\u001b[0m\n\u001b[0;32m    136\u001b[0m \u001b[38;5;28;01mimport\u001b[39;00m \u001b[38;5;21;01mmatplotlib\u001b[39;00m \u001b[38;5;28;01mas\u001b[39;00m \u001b[38;5;21;01mmpl\u001b[39;00m\n\u001b[0;32m    137\u001b[0m \u001b[38;5;28;01mfrom\u001b[39;00m \u001b[38;5;21;01mmatplotlib\u001b[39;00m \u001b[38;5;28;01mimport\u001b[39;00m _api, cbook\n\u001b[1;32m--> 138\u001b[0m \u001b[38;5;28;01mfrom\u001b[39;00m \u001b[38;5;21;01mmatplotlib\u001b[39;00m \u001b[38;5;28;01mimport\u001b[39;00m transforms \u001b[38;5;28;01mas\u001b[39;00m mtransforms\n\u001b[0;32m    140\u001b[0m _log \u001b[38;5;241m=\u001b[39m logging\u001b[38;5;241m.\u001b[39mgetLogger(\u001b[38;5;18m__name__\u001b[39m)\n\u001b[0;32m    142\u001b[0m __all__ \u001b[38;5;241m=\u001b[39m (\u001b[38;5;124m'\u001b[39m\u001b[38;5;124mTickHelper\u001b[39m\u001b[38;5;124m'\u001b[39m, \u001b[38;5;124m'\u001b[39m\u001b[38;5;124mFormatter\u001b[39m\u001b[38;5;124m'\u001b[39m, \u001b[38;5;124m'\u001b[39m\u001b[38;5;124mFixedFormatter\u001b[39m\u001b[38;5;124m'\u001b[39m,\n\u001b[0;32m    143\u001b[0m            \u001b[38;5;124m'\u001b[39m\u001b[38;5;124mNullFormatter\u001b[39m\u001b[38;5;124m'\u001b[39m, \u001b[38;5;124m'\u001b[39m\u001b[38;5;124mFuncFormatter\u001b[39m\u001b[38;5;124m'\u001b[39m, \u001b[38;5;124m'\u001b[39m\u001b[38;5;124mFormatStrFormatter\u001b[39m\u001b[38;5;124m'\u001b[39m,\n\u001b[0;32m    144\u001b[0m            \u001b[38;5;124m'\u001b[39m\u001b[38;5;124mStrMethodFormatter\u001b[39m\u001b[38;5;124m'\u001b[39m, \u001b[38;5;124m'\u001b[39m\u001b[38;5;124mScalarFormatter\u001b[39m\u001b[38;5;124m'\u001b[39m, \u001b[38;5;124m'\u001b[39m\u001b[38;5;124mLogFormatter\u001b[39m\u001b[38;5;124m'\u001b[39m,\n\u001b[1;32m   (...)\u001b[0m\n\u001b[0;32m    150\u001b[0m            \u001b[38;5;124m'\u001b[39m\u001b[38;5;124mMultipleLocator\u001b[39m\u001b[38;5;124m'\u001b[39m, \u001b[38;5;124m'\u001b[39m\u001b[38;5;124mMaxNLocator\u001b[39m\u001b[38;5;124m'\u001b[39m, \u001b[38;5;124m'\u001b[39m\u001b[38;5;124mAutoMinorLocator\u001b[39m\u001b[38;5;124m'\u001b[39m,\n\u001b[0;32m    151\u001b[0m            \u001b[38;5;124m'\u001b[39m\u001b[38;5;124mSymmetricalLogLocator\u001b[39m\u001b[38;5;124m'\u001b[39m, \u001b[38;5;124m'\u001b[39m\u001b[38;5;124mAsinhLocator\u001b[39m\u001b[38;5;124m'\u001b[39m, \u001b[38;5;124m'\u001b[39m\u001b[38;5;124mLogitLocator\u001b[39m\u001b[38;5;124m'\u001b[39m)\n",
      "File \u001b[1;32mc:\\Users\\jaswe\\OneDrive\\Desktop\\opt\\Projects\\mlproject\\venv\\lib\\site-packages\\matplotlib\\transforms.py:49\u001b[0m\n\u001b[0;32m     46\u001b[0m \u001b[38;5;28;01mfrom\u001b[39;00m \u001b[38;5;21;01mnumpy\u001b[39;00m\u001b[38;5;21;01m.\u001b[39;00m\u001b[38;5;21;01mlinalg\u001b[39;00m \u001b[38;5;28;01mimport\u001b[39;00m inv\n\u001b[0;32m     48\u001b[0m \u001b[38;5;28;01mfrom\u001b[39;00m \u001b[38;5;21;01mmatplotlib\u001b[39;00m \u001b[38;5;28;01mimport\u001b[39;00m _api\n\u001b[1;32m---> 49\u001b[0m \u001b[38;5;28;01mfrom\u001b[39;00m \u001b[38;5;21;01mmatplotlib\u001b[39;00m\u001b[38;5;21;01m.\u001b[39;00m\u001b[38;5;21;01m_path\u001b[39;00m \u001b[38;5;28;01mimport\u001b[39;00m (\n\u001b[0;32m     50\u001b[0m     affine_transform, count_bboxes_overlapping_bbox, update_path_extents)\n\u001b[0;32m     51\u001b[0m \u001b[38;5;28;01mfrom\u001b[39;00m \u001b[38;5;21;01m.\u001b[39;00m\u001b[38;5;21;01mpath\u001b[39;00m \u001b[38;5;28;01mimport\u001b[39;00m Path\n\u001b[0;32m     53\u001b[0m DEBUG \u001b[38;5;241m=\u001b[39m \u001b[38;5;28;01mFalse\u001b[39;00m\n",
      "\u001b[1;31mImportError\u001b[0m: DLL load failed while importing _path: The specified module could not be found."
     ]
    }
   ],
   "source": [
    "from ydata_profiling import ProfileReport\n",
    "\n"
   ]
  },
  {
   "cell_type": "code",
   "execution_count": null,
   "id": "26be3558",
   "metadata": {},
   "outputs": [],
   "source": [
    "df = sns.load_dataset('tips')"
   ]
  },
  {
   "cell_type": "code",
   "execution_count": null,
   "id": "cbbc4253",
   "metadata": {},
   "outputs": [
    {
     "data": {
      "text/html": [
       "<div>\n",
       "<style scoped>\n",
       "    .dataframe tbody tr th:only-of-type {\n",
       "        vertical-align: middle;\n",
       "    }\n",
       "\n",
       "    .dataframe tbody tr th {\n",
       "        vertical-align: top;\n",
       "    }\n",
       "\n",
       "    .dataframe thead th {\n",
       "        text-align: right;\n",
       "    }\n",
       "</style>\n",
       "<table border=\"1\" class=\"dataframe\">\n",
       "  <thead>\n",
       "    <tr style=\"text-align: right;\">\n",
       "      <th></th>\n",
       "      <th>total_bill</th>\n",
       "      <th>tip</th>\n",
       "      <th>sex</th>\n",
       "      <th>smoker</th>\n",
       "      <th>day</th>\n",
       "      <th>time</th>\n",
       "      <th>size</th>\n",
       "    </tr>\n",
       "  </thead>\n",
       "  <tbody>\n",
       "    <tr>\n",
       "      <th>0</th>\n",
       "      <td>16.99</td>\n",
       "      <td>1.01</td>\n",
       "      <td>Female</td>\n",
       "      <td>No</td>\n",
       "      <td>Sun</td>\n",
       "      <td>Dinner</td>\n",
       "      <td>2</td>\n",
       "    </tr>\n",
       "    <tr>\n",
       "      <th>1</th>\n",
       "      <td>10.34</td>\n",
       "      <td>1.66</td>\n",
       "      <td>Male</td>\n",
       "      <td>No</td>\n",
       "      <td>Sun</td>\n",
       "      <td>Dinner</td>\n",
       "      <td>3</td>\n",
       "    </tr>\n",
       "    <tr>\n",
       "      <th>2</th>\n",
       "      <td>21.01</td>\n",
       "      <td>3.50</td>\n",
       "      <td>Male</td>\n",
       "      <td>No</td>\n",
       "      <td>Sun</td>\n",
       "      <td>Dinner</td>\n",
       "      <td>3</td>\n",
       "    </tr>\n",
       "    <tr>\n",
       "      <th>3</th>\n",
       "      <td>23.68</td>\n",
       "      <td>3.31</td>\n",
       "      <td>Male</td>\n",
       "      <td>No</td>\n",
       "      <td>Sun</td>\n",
       "      <td>Dinner</td>\n",
       "      <td>2</td>\n",
       "    </tr>\n",
       "    <tr>\n",
       "      <th>4</th>\n",
       "      <td>24.59</td>\n",
       "      <td>3.61</td>\n",
       "      <td>Female</td>\n",
       "      <td>No</td>\n",
       "      <td>Sun</td>\n",
       "      <td>Dinner</td>\n",
       "      <td>4</td>\n",
       "    </tr>\n",
       "  </tbody>\n",
       "</table>\n",
       "</div>"
      ],
      "text/plain": [
       "   total_bill   tip     sex smoker  day    time  size\n",
       "0       16.99  1.01  Female     No  Sun  Dinner     2\n",
       "1       10.34  1.66    Male     No  Sun  Dinner     3\n",
       "2       21.01  3.50    Male     No  Sun  Dinner     3\n",
       "3       23.68  3.31    Male     No  Sun  Dinner     2\n",
       "4       24.59  3.61  Female     No  Sun  Dinner     4"
      ]
     },
     "execution_count": 11,
     "metadata": {},
     "output_type": "execute_result"
    }
   ],
   "source": [
    "df.head()"
   ]
  },
  {
   "cell_type": "code",
   "execution_count": null,
   "id": "daf8fdc9",
   "metadata": {},
   "outputs": [
    {
     "name": "stdout",
     "output_type": "stream",
     "text": [
      "Requirement already satisfied: ipywidgets in c:\\users\\jaswe\\onedrive\\desktop\\opt\\projects\\mlproject\\venv\\lib\\site-packages (8.1.7)\n",
      "Requirement already satisfied: comm>=0.1.3 in c:\\users\\jaswe\\onedrive\\desktop\\opt\\projects\\mlproject\\venv\\lib\\site-packages (from ipywidgets) (0.2.2)\n",
      "Requirement already satisfied: ipython>=6.1.0 in c:\\users\\jaswe\\onedrive\\desktop\\opt\\projects\\mlproject\\venv\\lib\\site-packages (from ipywidgets) (8.12.2)\n",
      "Requirement already satisfied: traitlets>=4.3.1 in c:\\users\\jaswe\\onedrive\\desktop\\opt\\projects\\mlproject\\venv\\lib\\site-packages (from ipywidgets) (5.14.3)\n",
      "Requirement already satisfied: widgetsnbextension~=4.0.14 in c:\\users\\jaswe\\onedrive\\desktop\\opt\\projects\\mlproject\\venv\\lib\\site-packages (from ipywidgets) (4.0.14)\n",
      "Requirement already satisfied: jupyterlab_widgets~=3.0.15 in c:\\users\\jaswe\\onedrive\\desktop\\opt\\projects\\mlproject\\venv\\lib\\site-packages (from ipywidgets) (3.0.15)\n",
      "Requirement already satisfied: backcall in c:\\users\\jaswe\\onedrive\\desktop\\opt\\projects\\mlproject\\venv\\lib\\site-packages (from ipython>=6.1.0->ipywidgets) (0.2.0)\n",
      "Requirement already satisfied: decorator in c:\\users\\jaswe\\onedrive\\desktop\\opt\\projects\\mlproject\\venv\\lib\\site-packages (from ipython>=6.1.0->ipywidgets) (5.1.1)\n",
      "Requirement already satisfied: jedi>=0.16 in c:\\users\\jaswe\\onedrive\\desktop\\opt\\projects\\mlproject\\venv\\lib\\site-packages (from ipython>=6.1.0->ipywidgets) (0.19.1)\n",
      "Requirement already satisfied: matplotlib-inline in c:\\users\\jaswe\\onedrive\\desktop\\opt\\projects\\mlproject\\venv\\lib\\site-packages (from ipython>=6.1.0->ipywidgets) (0.1.7)\n",
      "Requirement already satisfied: pickleshare in c:\\users\\jaswe\\onedrive\\desktop\\opt\\projects\\mlproject\\venv\\lib\\site-packages (from ipython>=6.1.0->ipywidgets) (0.7.5)\n",
      "Requirement already satisfied: prompt-toolkit!=3.0.37,<3.1.0,>=3.0.30 in c:\\users\\jaswe\\onedrive\\desktop\\opt\\projects\\mlproject\\venv\\lib\\site-packages (from ipython>=6.1.0->ipywidgets) (3.0.48)\n",
      "Requirement already satisfied: pygments>=2.4.0 in c:\\users\\jaswe\\onedrive\\desktop\\opt\\projects\\mlproject\\venv\\lib\\site-packages (from ipython>=6.1.0->ipywidgets) (2.18.0)\n",
      "Requirement already satisfied: stack-data in c:\\users\\jaswe\\onedrive\\desktop\\opt\\projects\\mlproject\\venv\\lib\\site-packages (from ipython>=6.1.0->ipywidgets) (0.6.2)\n",
      "Requirement already satisfied: typing-extensions in c:\\users\\jaswe\\onedrive\\desktop\\opt\\projects\\mlproject\\venv\\lib\\site-packages (from ipython>=6.1.0->ipywidgets) (4.12.2)\n",
      "Requirement already satisfied: colorama in c:\\users\\jaswe\\onedrive\\desktop\\opt\\projects\\mlproject\\venv\\lib\\site-packages (from ipython>=6.1.0->ipywidgets) (0.4.6)\n",
      "Requirement already satisfied: parso<0.9.0,>=0.8.3 in c:\\users\\jaswe\\onedrive\\desktop\\opt\\projects\\mlproject\\venv\\lib\\site-packages (from jedi>=0.16->ipython>=6.1.0->ipywidgets) (0.8.4)\n",
      "Requirement already satisfied: wcwidth in c:\\users\\jaswe\\onedrive\\desktop\\opt\\projects\\mlproject\\venv\\lib\\site-packages (from prompt-toolkit!=3.0.37,<3.1.0,>=3.0.30->ipython>=6.1.0->ipywidgets) (0.2.13)\n",
      "Requirement already satisfied: executing>=1.2.0 in c:\\users\\jaswe\\onedrive\\desktop\\opt\\projects\\mlproject\\venv\\lib\\site-packages (from stack-data->ipython>=6.1.0->ipywidgets) (2.1.0)\n",
      "Requirement already satisfied: asttokens>=2.1.0 in c:\\users\\jaswe\\onedrive\\desktop\\opt\\projects\\mlproject\\venv\\lib\\site-packages (from stack-data->ipython>=6.1.0->ipywidgets) (3.0.0)\n",
      "Requirement already satisfied: pure-eval in c:\\users\\jaswe\\onedrive\\desktop\\opt\\projects\\mlproject\\venv\\lib\\site-packages (from stack-data->ipython>=6.1.0->ipywidgets) (0.2.3)\n"
     ]
    },
    {
     "name": "stderr",
     "output_type": "stream",
     "text": [
      "WARNING: Ignoring invalid distribution -atplotlib (c:\\users\\jaswe\\onedrive\\desktop\\opt\\projects\\mlproject\\venv\\lib\\site-packages)\n",
      "WARNING: Ignoring invalid distribution -atplotlib (c:\\users\\jaswe\\onedrive\\desktop\\opt\\projects\\mlproject\\venv\\lib\\site-packages)\n",
      "WARNING: Ignoring invalid distribution -atplotlib (c:\\users\\jaswe\\onedrive\\desktop\\opt\\projects\\mlproject\\venv\\lib\\site-packages)\n"
     ]
    }
   ],
   "source": [
    "!pip install ipywidgets"
   ]
  },
  {
   "cell_type": "code",
   "execution_count": null,
   "id": "9ada8493",
   "metadata": {},
   "outputs": [
    {
     "ename": "NameError",
     "evalue": "name 'ProfileReport' is not defined",
     "output_type": "error",
     "traceback": [
      "\u001b[1;31m---------------------------------------------------------------------------\u001b[0m",
      "\u001b[1;31mNameError\u001b[0m                                 Traceback (most recent call last)",
      "Cell \u001b[1;32mIn[9], line 1\u001b[0m\n\u001b[1;32m----> 1\u001b[0m profile \u001b[38;5;241m=\u001b[39m \u001b[43mProfileReport\u001b[49m(df, explorative \u001b[38;5;241m=\u001b[39m \u001b[38;5;28;01mTrue\u001b[39;00m)\n\u001b[0;32m      2\u001b[0m profile\u001b[38;5;241m.\u001b[39mto_file(\u001b[38;5;124m'\u001b[39m\u001b[38;5;124moutput.html\u001b[39m\u001b[38;5;124m'\u001b[39m)\n",
      "\u001b[1;31mNameError\u001b[0m: name 'ProfileReport' is not defined"
     ]
    }
   ],
   "source": [
    "profile = ProfileReport(df, explorative = True)\n",
    "profile.to_file('output.html')"
   ]
  },
  {
   "cell_type": "code",
   "execution_count": null,
   "id": "55277542",
   "metadata": {},
   "outputs": [
    {
     "name": "stdout",
     "output_type": "stream",
     "text": [
      "Collecting dtale\n",
      "  Using cached dtale-3.17.0-py2.py3-none-any.whl.metadata (16 kB)\n",
      "Collecting dash-daq<=0.5.0 (from dtale)\n",
      "  Using cached dash_daq-0.5.0-py3-none-any.whl\n",
      "Requirement already satisfied: future>=0.14.0 in c:\\users\\jaswe\\onedrive\\desktop\\opt\\projects\\mlproject\\venv\\lib\\site-packages (from dtale) (1.0.0)\n",
      "Collecting missingno (from dtale)\n",
      "  Using cached missingno-0.5.2-py3-none-any.whl.metadata (639 bytes)\n",
      "Requirement already satisfied: pandas in c:\\users\\jaswe\\onedrive\\desktop\\opt\\projects\\mlproject\\venv\\lib\\site-packages (from dtale) (2.0.3)\n",
      "Requirement already satisfied: squarify in c:\\users\\jaswe\\onedrive\\desktop\\opt\\projects\\mlproject\\venv\\lib\\site-packages (from dtale) (0.4.4)\n",
      "Requirement already satisfied: strsimpy in c:\\users\\jaswe\\onedrive\\desktop\\opt\\projects\\mlproject\\venv\\lib\\site-packages (from dtale) (0.2.1)\n",
      "Requirement already satisfied: six in c:\\users\\jaswe\\onedrive\\desktop\\opt\\projects\\mlproject\\venv\\lib\\site-packages (from dtale) (1.16.0)\n",
      "Requirement already satisfied: xlrd in c:\\users\\jaswe\\onedrive\\desktop\\opt\\projects\\mlproject\\venv\\lib\\site-packages (from dtale) (2.0.1)\n",
      "Collecting Flask-Compress<=1.15 (from dtale)\n",
      "  Using cached Flask_Compress-1.15-py3-none-any.whl.metadata (8.4 kB)\n",
      "Requirement already satisfied: kaleido<=0.2.1 in c:\\users\\jaswe\\onedrive\\desktop\\opt\\projects\\mlproject\\venv\\lib\\site-packages (from dtale) (0.2.1)\n",
      "Requirement already satisfied: MarkupSafe<=2.1.5 in c:\\users\\jaswe\\onedrive\\desktop\\opt\\projects\\mlproject\\venv\\lib\\site-packages (from dtale) (2.1.5)\n",
      "Collecting matplotlib<=3.7.2 (from dtale)\n",
      "  Using cached matplotlib-3.7.2-cp38-cp38-win_amd64.whl.metadata (5.8 kB)\n",
      "Requirement already satisfied: networkx<=3.1 in c:\\users\\jaswe\\onedrive\\desktop\\opt\\projects\\mlproject\\venv\\lib\\site-packages (from dtale) (3.1)\n",
      "Requirement already satisfied: pyparsing<=3.0.9 in c:\\users\\jaswe\\onedrive\\desktop\\opt\\projects\\mlproject\\venv\\lib\\site-packages (from dtale) (3.0.9)\n",
      "Requirement already satisfied: scikit-learn<=1.3.2 in c:\\users\\jaswe\\onedrive\\desktop\\opt\\projects\\mlproject\\venv\\lib\\site-packages (from dtale) (1.3.2)\n",
      "Requirement already satisfied: scipy<=1.10.1 in c:\\users\\jaswe\\onedrive\\desktop\\opt\\projects\\mlproject\\venv\\lib\\site-packages (from dtale) (1.10.1)\n",
      "Requirement already satisfied: statsmodels<=0.14.1 in c:\\users\\jaswe\\onedrive\\desktop\\opt\\projects\\mlproject\\venv\\lib\\site-packages (from dtale) (0.14.1)\n",
      "Requirement already satisfied: beautifulsoup4!=4.13.0b2 in c:\\users\\jaswe\\onedrive\\desktop\\opt\\projects\\mlproject\\venv\\lib\\site-packages (from dtale) (4.13.4)\n",
      "Requirement already satisfied: certifi in c:\\users\\jaswe\\onedrive\\desktop\\opt\\projects\\mlproject\\venv\\lib\\site-packages (from dtale) (2025.4.26)\n",
      "Collecting dash-bootstrap-components<=1.7.1 (from dtale)\n",
      "  Using cached dash_bootstrap_components-1.6.0-py3-none-any.whl.metadata (5.2 kB)\n",
      "Requirement already satisfied: lz4 in c:\\users\\jaswe\\onedrive\\desktop\\opt\\projects\\mlproject\\venv\\lib\\site-packages (from dtale) (4.3.3)\n",
      "Requirement already satisfied: cycler in c:\\users\\jaswe\\onedrive\\desktop\\opt\\projects\\mlproject\\venv\\lib\\site-packages (from dtale) (0.12.1)\n",
      "Collecting dash<=2.18.2 (from dtale)\n",
      "  Using cached dash-2.18.2-py3-none-any.whl.metadata (10 kB)\n",
      "Requirement already satisfied: seaborn in c:\\users\\jaswe\\onedrive\\desktop\\opt\\projects\\mlproject\\venv\\lib\\site-packages (from dtale) (0.13.2)\n",
      "Requirement already satisfied: werkzeug in c:\\users\\jaswe\\onedrive\\desktop\\opt\\projects\\mlproject\\venv\\lib\\site-packages (from dtale) (3.0.6)\n",
      "Requirement already satisfied: numpy in c:\\users\\jaswe\\onedrive\\desktop\\opt\\projects\\mlproject\\venv\\lib\\site-packages (from dtale) (1.24.4)\n",
      "Requirement already satisfied: openpyxl!=3.2.0b1 in c:\\users\\jaswe\\onedrive\\desktop\\opt\\projects\\mlproject\\venv\\lib\\site-packages (from dtale) (3.1.5)\n",
      "Collecting xarray (from dtale)\n",
      "  Using cached xarray-2023.1.0-py3-none-any.whl.metadata (6.2 kB)\n",
      "Requirement already satisfied: et-xmlfile in c:\\users\\jaswe\\onedrive\\desktop\\opt\\projects\\mlproject\\venv\\lib\\site-packages (from dtale) (2.0.0)\n",
      "Requirement already satisfied: plotly in c:\\users\\jaswe\\onedrive\\desktop\\opt\\projects\\mlproject\\venv\\lib\\site-packages (from dtale) (6.0.1)\n",
      "Requirement already satisfied: Flask in c:\\users\\jaswe\\onedrive\\desktop\\opt\\projects\\mlproject\\venv\\lib\\site-packages (from dtale) (3.0.3)\n",
      "Requirement already satisfied: itsdangerous in c:\\users\\jaswe\\onedrive\\desktop\\opt\\projects\\mlproject\\venv\\lib\\site-packages (from dtale) (2.2.0)\n",
      "Requirement already satisfied: requests in c:\\users\\jaswe\\onedrive\\desktop\\opt\\projects\\mlproject\\venv\\lib\\site-packages (from dtale) (2.32.4)\n",
      "Requirement already satisfied: soupsieve>1.2 in c:\\users\\jaswe\\onedrive\\desktop\\opt\\projects\\mlproject\\venv\\lib\\site-packages (from beautifulsoup4!=4.13.0b2->dtale) (2.7)\n",
      "Requirement already satisfied: typing-extensions>=4.0.0 in c:\\users\\jaswe\\onedrive\\desktop\\opt\\projects\\mlproject\\venv\\lib\\site-packages (from beautifulsoup4!=4.13.0b2->dtale) (4.12.2)\n",
      "Requirement already satisfied: dash-html-components==2.0.0 in c:\\users\\jaswe\\onedrive\\desktop\\opt\\projects\\mlproject\\venv\\lib\\site-packages (from dash<=2.18.2->dtale) (2.0.0)\n",
      "Requirement already satisfied: dash-core-components==2.0.0 in c:\\users\\jaswe\\onedrive\\desktop\\opt\\projects\\mlproject\\venv\\lib\\site-packages (from dash<=2.18.2->dtale) (2.0.0)\n",
      "Requirement already satisfied: dash-table==5.0.0 in c:\\users\\jaswe\\onedrive\\desktop\\opt\\projects\\mlproject\\venv\\lib\\site-packages (from dash<=2.18.2->dtale) (5.0.0)\n",
      "Requirement already satisfied: importlib-metadata in c:\\users\\jaswe\\onedrive\\desktop\\opt\\projects\\mlproject\\venv\\lib\\site-packages (from dash<=2.18.2->dtale) (8.5.0)\n",
      "Requirement already satisfied: retrying in c:\\users\\jaswe\\onedrive\\desktop\\opt\\projects\\mlproject\\venv\\lib\\site-packages (from dash<=2.18.2->dtale) (1.3.4)\n",
      "Requirement already satisfied: nest-asyncio in c:\\users\\jaswe\\onedrive\\desktop\\opt\\projects\\mlproject\\venv\\lib\\site-packages (from dash<=2.18.2->dtale) (1.6.0)\n",
      "Requirement already satisfied: setuptools in c:\\users\\jaswe\\onedrive\\desktop\\opt\\projects\\mlproject\\venv\\lib\\site-packages (from dash<=2.18.2->dtale) (75.1.0)\n",
      "Requirement already satisfied: Jinja2>=3.1.2 in c:\\users\\jaswe\\onedrive\\desktop\\opt\\projects\\mlproject\\venv\\lib\\site-packages (from Flask->dtale) (3.1.6)\n",
      "Requirement already satisfied: click>=8.1.3 in c:\\users\\jaswe\\onedrive\\desktop\\opt\\projects\\mlproject\\venv\\lib\\site-packages (from Flask->dtale) (8.1.8)\n",
      "Requirement already satisfied: blinker>=1.6.2 in c:\\users\\jaswe\\onedrive\\desktop\\opt\\projects\\mlproject\\venv\\lib\\site-packages (from Flask->dtale) (1.8.2)\n",
      "Requirement already satisfied: brotli in c:\\users\\jaswe\\onedrive\\desktop\\opt\\projects\\mlproject\\venv\\lib\\site-packages (from Flask-Compress<=1.15->dtale) (1.1.0)\n",
      "Requirement already satisfied: zstandard in c:\\users\\jaswe\\onedrive\\desktop\\opt\\projects\\mlproject\\venv\\lib\\site-packages (from Flask-Compress<=1.15->dtale) (0.23.0)\n",
      "Requirement already satisfied: contourpy>=1.0.1 in c:\\users\\jaswe\\onedrive\\desktop\\opt\\projects\\mlproject\\venv\\lib\\site-packages (from matplotlib<=3.7.2->dtale) (1.1.1)\n",
      "Requirement already satisfied: fonttools>=4.22.0 in c:\\users\\jaswe\\onedrive\\desktop\\opt\\projects\\mlproject\\venv\\lib\\site-packages (from matplotlib<=3.7.2->dtale) (4.57.0)\n",
      "Requirement already satisfied: kiwisolver>=1.0.1 in c:\\users\\jaswe\\onedrive\\desktop\\opt\\projects\\mlproject\\venv\\lib\\site-packages (from matplotlib<=3.7.2->dtale) (1.4.7)\n",
      "Requirement already satisfied: packaging>=20.0 in c:\\users\\jaswe\\onedrive\\desktop\\opt\\projects\\mlproject\\venv\\lib\\site-packages (from matplotlib<=3.7.2->dtale) (25.0)\n",
      "Requirement already satisfied: pillow>=6.2.0 in c:\\users\\jaswe\\onedrive\\desktop\\opt\\projects\\mlproject\\venv\\lib\\site-packages (from matplotlib<=3.7.2->dtale) (10.4.0)\n",
      "Requirement already satisfied: python-dateutil>=2.7 in c:\\users\\jaswe\\onedrive\\desktop\\opt\\projects\\mlproject\\venv\\lib\\site-packages (from matplotlib<=3.7.2->dtale) (2.9.0.post0)\n",
      "Requirement already satisfied: importlib-resources>=3.2.0 in c:\\users\\jaswe\\onedrive\\desktop\\opt\\projects\\mlproject\\venv\\lib\\site-packages (from matplotlib<=3.7.2->dtale) (6.4.5)\n",
      "Requirement already satisfied: narwhals>=1.15.1 in c:\\users\\jaswe\\onedrive\\desktop\\opt\\projects\\mlproject\\venv\\lib\\site-packages (from plotly->dtale) (1.35.0)\n",
      "Requirement already satisfied: joblib>=1.1.1 in c:\\users\\jaswe\\onedrive\\desktop\\opt\\projects\\mlproject\\venv\\lib\\site-packages (from scikit-learn<=1.3.2->dtale) (1.4.2)\n",
      "Requirement already satisfied: threadpoolctl>=2.0.0 in c:\\users\\jaswe\\onedrive\\desktop\\opt\\projects\\mlproject\\venv\\lib\\site-packages (from scikit-learn<=1.3.2->dtale) (3.5.0)\n",
      "Requirement already satisfied: patsy>=0.5.4 in c:\\users\\jaswe\\onedrive\\desktop\\opt\\projects\\mlproject\\venv\\lib\\site-packages (from statsmodels<=0.14.1->dtale) (1.0.1)\n",
      "Requirement already satisfied: pytz>=2020.1 in c:\\users\\jaswe\\onedrive\\desktop\\opt\\projects\\mlproject\\venv\\lib\\site-packages (from pandas->dtale) (2025.2)\n",
      "Requirement already satisfied: tzdata>=2022.1 in c:\\users\\jaswe\\onedrive\\desktop\\opt\\projects\\mlproject\\venv\\lib\\site-packages (from pandas->dtale) (2025.2)\n",
      "Requirement already satisfied: charset_normalizer<4,>=2 in c:\\users\\jaswe\\onedrive\\desktop\\opt\\projects\\mlproject\\venv\\lib\\site-packages (from requests->dtale) (3.4.2)\n",
      "Requirement already satisfied: idna<4,>=2.5 in c:\\users\\jaswe\\onedrive\\desktop\\opt\\projects\\mlproject\\venv\\lib\\site-packages (from requests->dtale) (3.10)\n",
      "Requirement already satisfied: urllib3<3,>=1.21.1 in c:\\users\\jaswe\\onedrive\\desktop\\opt\\projects\\mlproject\\venv\\lib\\site-packages (from requests->dtale) (2.2.3)\n",
      "Requirement already satisfied: colorama in c:\\users\\jaswe\\onedrive\\desktop\\opt\\projects\\mlproject\\venv\\lib\\site-packages (from click>=8.1.3->Flask->dtale) (0.4.6)\n",
      "Requirement already satisfied: zipp>=3.20 in c:\\users\\jaswe\\onedrive\\desktop\\opt\\projects\\mlproject\\venv\\lib\\site-packages (from importlib-metadata->dash<=2.18.2->dtale) (3.20.2)\n",
      "Using cached dtale-3.17.0-py2.py3-none-any.whl (14.9 MB)\n",
      "Using cached dash-2.18.2-py3-none-any.whl (7.8 MB)\n",
      "Using cached dash_bootstrap_components-1.6.0-py3-none-any.whl (222 kB)\n",
      "Using cached Flask_Compress-1.15-py3-none-any.whl (8.6 kB)\n",
      "Using cached matplotlib-3.7.2-cp38-cp38-win_amd64.whl (7.5 MB)\n",
      "Using cached missingno-0.5.2-py3-none-any.whl (8.7 kB)\n",
      "Using cached xarray-2023.1.0-py3-none-any.whl (973 kB)\n",
      "Installing collected packages: matplotlib, xarray, Flask-Compress, dash, missingno, dash-daq, dash-bootstrap-components, dtale\n"
     ]
    },
    {
     "name": "stderr",
     "output_type": "stream",
     "text": [
      "WARNING: Ignoring invalid distribution -atplotlib (c:\\users\\jaswe\\onedrive\\desktop\\opt\\projects\\mlproject\\venv\\lib\\site-packages)\n",
      "WARNING: Ignoring invalid distribution -atplotlib (c:\\users\\jaswe\\onedrive\\desktop\\opt\\projects\\mlproject\\venv\\lib\\site-packages)\n",
      "ERROR: Could not install packages due to an OSError: [WinError 5] Access is denied: 'c:\\\\Users\\\\jaswe\\\\OneDrive\\\\Desktop\\\\opt\\\\Projects\\\\mlproject\\\\venv\\\\Lib\\\\site-packages\\\\matplotlib\\\\ft2font.cp38-win_amd64.pyd'\n",
      "Consider using the `--user` option or check the permissions.\n",
      "\n"
     ]
    }
   ],
   "source": [
    "import sys\n",
    "!{sys.executable} -m pip install dtale"
   ]
  },
  {
   "cell_type": "code",
   "execution_count": null,
   "id": "e0aa4970",
   "metadata": {},
   "outputs": [],
   "source": [
    "import pandas as pd"
   ]
  },
  {
   "cell_type": "code",
   "execution_count": null,
   "id": "7eba912c",
   "metadata": {},
   "outputs": [
    {
     "ename": "ImportError",
     "evalue": "DLL load failed while importing _path: The specified module could not be found.",
     "output_type": "error",
     "traceback": [
      "\u001b[1;31m---------------------------------------------------------------------------\u001b[0m",
      "\u001b[1;31mImportError\u001b[0m                               Traceback (most recent call last)",
      "Cell \u001b[1;32mIn[12], line 1\u001b[0m\n\u001b[1;32m----> 1\u001b[0m \u001b[38;5;28;01mimport\u001b[39;00m \u001b[38;5;21;01mseaborn\u001b[39;00m \u001b[38;5;28;01mas\u001b[39;00m \u001b[38;5;21;01msns\u001b[39;00m\n\u001b[0;32m      2\u001b[0m df_t \u001b[38;5;241m=\u001b[39m sns\u001b[38;5;241m.\u001b[39mload_dataset(\u001b[38;5;124m'\u001b[39m\u001b[38;5;124mtitanic\u001b[39m\u001b[38;5;124m'\u001b[39m)\n",
      "File \u001b[1;32mc:\\Users\\jaswe\\OneDrive\\Desktop\\opt\\Projects\\mlproject\\venv\\lib\\site-packages\\seaborn\\__init__.py:2\u001b[0m\n\u001b[0;32m      1\u001b[0m \u001b[38;5;66;03m# Import seaborn objects\u001b[39;00m\n\u001b[1;32m----> 2\u001b[0m \u001b[38;5;28;01mfrom\u001b[39;00m \u001b[38;5;21;01m.\u001b[39;00m\u001b[38;5;21;01mrcmod\u001b[39;00m \u001b[38;5;28;01mimport\u001b[39;00m \u001b[38;5;241m*\u001b[39m  \u001b[38;5;66;03m# noqa: F401,F403\u001b[39;00m\n\u001b[0;32m      3\u001b[0m \u001b[38;5;28;01mfrom\u001b[39;00m \u001b[38;5;21;01m.\u001b[39;00m\u001b[38;5;21;01mutils\u001b[39;00m \u001b[38;5;28;01mimport\u001b[39;00m \u001b[38;5;241m*\u001b[39m  \u001b[38;5;66;03m# noqa: F401,F403\u001b[39;00m\n\u001b[0;32m      4\u001b[0m \u001b[38;5;28;01mfrom\u001b[39;00m \u001b[38;5;21;01m.\u001b[39;00m\u001b[38;5;21;01mpalettes\u001b[39;00m \u001b[38;5;28;01mimport\u001b[39;00m \u001b[38;5;241m*\u001b[39m  \u001b[38;5;66;03m# noqa: F401,F403\u001b[39;00m\n",
      "File \u001b[1;32mc:\\Users\\jaswe\\OneDrive\\Desktop\\opt\\Projects\\mlproject\\venv\\lib\\site-packages\\seaborn\\rcmod.py:3\u001b[0m\n\u001b[0;32m      1\u001b[0m \u001b[38;5;124;03m\"\"\"Control plot style and scaling using the matplotlib rcParams interface.\"\"\"\u001b[39;00m\n\u001b[0;32m      2\u001b[0m \u001b[38;5;28;01mimport\u001b[39;00m \u001b[38;5;21;01mfunctools\u001b[39;00m\n\u001b[1;32m----> 3\u001b[0m \u001b[38;5;28;01mimport\u001b[39;00m \u001b[38;5;21;01mmatplotlib\u001b[39;00m \u001b[38;5;28;01mas\u001b[39;00m \u001b[38;5;21;01mmpl\u001b[39;00m\n\u001b[0;32m      4\u001b[0m \u001b[38;5;28;01mfrom\u001b[39;00m \u001b[38;5;21;01mcycler\u001b[39;00m \u001b[38;5;28;01mimport\u001b[39;00m cycler\n\u001b[0;32m      5\u001b[0m \u001b[38;5;28;01mfrom\u001b[39;00m \u001b[38;5;21;01m.\u001b[39;00m \u001b[38;5;28;01mimport\u001b[39;00m palettes\n",
      "File \u001b[1;32mc:\\Users\\jaswe\\OneDrive\\Desktop\\opt\\Projects\\mlproject\\venv\\lib\\site-packages\\matplotlib\\__init__.py:157\u001b[0m\n\u001b[0;32m    153\u001b[0m \u001b[38;5;28;01mfrom\u001b[39;00m \u001b[38;5;21;01mpackaging\u001b[39;00m\u001b[38;5;21;01m.\u001b[39;00m\u001b[38;5;21;01mversion\u001b[39;00m \u001b[38;5;28;01mimport\u001b[39;00m parse \u001b[38;5;28;01mas\u001b[39;00m parse_version\n\u001b[0;32m    155\u001b[0m \u001b[38;5;66;03m# cbook must import matplotlib only within function\u001b[39;00m\n\u001b[0;32m    156\u001b[0m \u001b[38;5;66;03m# definitions, so it is safe to import from it here.\u001b[39;00m\n\u001b[1;32m--> 157\u001b[0m \u001b[38;5;28;01mfrom\u001b[39;00m \u001b[38;5;21;01m.\u001b[39;00m \u001b[38;5;28;01mimport\u001b[39;00m _api, _version, cbook, _docstring, rcsetup\n\u001b[0;32m    158\u001b[0m \u001b[38;5;28;01mfrom\u001b[39;00m \u001b[38;5;21;01mmatplotlib\u001b[39;00m\u001b[38;5;21;01m.\u001b[39;00m\u001b[38;5;21;01mcbook\u001b[39;00m \u001b[38;5;28;01mimport\u001b[39;00m sanitize_sequence\n\u001b[0;32m    159\u001b[0m \u001b[38;5;28;01mfrom\u001b[39;00m \u001b[38;5;21;01mmatplotlib\u001b[39;00m\u001b[38;5;21;01m.\u001b[39;00m\u001b[38;5;21;01m_api\u001b[39;00m \u001b[38;5;28;01mimport\u001b[39;00m MatplotlibDeprecationWarning\n",
      "File \u001b[1;32mc:\\Users\\jaswe\\OneDrive\\Desktop\\opt\\Projects\\mlproject\\venv\\lib\\site-packages\\matplotlib\\rcsetup.py:27\u001b[0m\n\u001b[0;32m     25\u001b[0m \u001b[38;5;28;01mfrom\u001b[39;00m \u001b[38;5;21;01mmatplotlib\u001b[39;00m \u001b[38;5;28;01mimport\u001b[39;00m _api, cbook\n\u001b[0;32m     26\u001b[0m \u001b[38;5;28;01mfrom\u001b[39;00m \u001b[38;5;21;01mmatplotlib\u001b[39;00m\u001b[38;5;21;01m.\u001b[39;00m\u001b[38;5;21;01mcbook\u001b[39;00m \u001b[38;5;28;01mimport\u001b[39;00m ls_mapper\n\u001b[1;32m---> 27\u001b[0m \u001b[38;5;28;01mfrom\u001b[39;00m \u001b[38;5;21;01mmatplotlib\u001b[39;00m\u001b[38;5;21;01m.\u001b[39;00m\u001b[38;5;21;01mcolors\u001b[39;00m \u001b[38;5;28;01mimport\u001b[39;00m Colormap, is_color_like\n\u001b[0;32m     28\u001b[0m \u001b[38;5;28;01mfrom\u001b[39;00m \u001b[38;5;21;01mmatplotlib\u001b[39;00m\u001b[38;5;21;01m.\u001b[39;00m\u001b[38;5;21;01m_fontconfig_pattern\u001b[39;00m \u001b[38;5;28;01mimport\u001b[39;00m parse_fontconfig_pattern\n\u001b[0;32m     29\u001b[0m \u001b[38;5;28;01mfrom\u001b[39;00m \u001b[38;5;21;01mmatplotlib\u001b[39;00m\u001b[38;5;21;01m.\u001b[39;00m\u001b[38;5;21;01m_enums\u001b[39;00m \u001b[38;5;28;01mimport\u001b[39;00m JoinStyle, CapStyle\n",
      "File \u001b[1;32mc:\\Users\\jaswe\\OneDrive\\Desktop\\opt\\Projects\\mlproject\\venv\\lib\\site-packages\\matplotlib\\colors.py:56\u001b[0m\n\u001b[0;32m     54\u001b[0m \u001b[38;5;28;01mimport\u001b[39;00m \u001b[38;5;21;01mmatplotlib\u001b[39;00m \u001b[38;5;28;01mas\u001b[39;00m \u001b[38;5;21;01mmpl\u001b[39;00m\n\u001b[0;32m     55\u001b[0m \u001b[38;5;28;01mimport\u001b[39;00m \u001b[38;5;21;01mnumpy\u001b[39;00m \u001b[38;5;28;01mas\u001b[39;00m \u001b[38;5;21;01mnp\u001b[39;00m\n\u001b[1;32m---> 56\u001b[0m \u001b[38;5;28;01mfrom\u001b[39;00m \u001b[38;5;21;01mmatplotlib\u001b[39;00m \u001b[38;5;28;01mimport\u001b[39;00m _api, _cm, cbook, scale\n\u001b[0;32m     57\u001b[0m \u001b[38;5;28;01mfrom\u001b[39;00m \u001b[38;5;21;01m.\u001b[39;00m\u001b[38;5;21;01m_color_data\u001b[39;00m \u001b[38;5;28;01mimport\u001b[39;00m BASE_COLORS, TABLEAU_COLORS, CSS4_COLORS, XKCD_COLORS\n\u001b[0;32m     60\u001b[0m \u001b[38;5;28;01mclass\u001b[39;00m \u001b[38;5;21;01m_ColorMapping\u001b[39;00m(\u001b[38;5;28mdict\u001b[39m):\n",
      "File \u001b[1;32mc:\\Users\\jaswe\\OneDrive\\Desktop\\opt\\Projects\\mlproject\\venv\\lib\\site-packages\\matplotlib\\scale.py:22\u001b[0m\n\u001b[0;32m     20\u001b[0m \u001b[38;5;28;01mimport\u001b[39;00m \u001b[38;5;21;01mmatplotlib\u001b[39;00m \u001b[38;5;28;01mas\u001b[39;00m \u001b[38;5;21;01mmpl\u001b[39;00m\n\u001b[0;32m     21\u001b[0m \u001b[38;5;28;01mfrom\u001b[39;00m \u001b[38;5;21;01mmatplotlib\u001b[39;00m \u001b[38;5;28;01mimport\u001b[39;00m _api, _docstring\n\u001b[1;32m---> 22\u001b[0m \u001b[38;5;28;01mfrom\u001b[39;00m \u001b[38;5;21;01mmatplotlib\u001b[39;00m\u001b[38;5;21;01m.\u001b[39;00m\u001b[38;5;21;01mticker\u001b[39;00m \u001b[38;5;28;01mimport\u001b[39;00m (\n\u001b[0;32m     23\u001b[0m     NullFormatter, ScalarFormatter, LogFormatterSciNotation, LogitFormatter,\n\u001b[0;32m     24\u001b[0m     NullLocator, LogLocator, AutoLocator, AutoMinorLocator,\n\u001b[0;32m     25\u001b[0m     SymmetricalLogLocator, AsinhLocator, LogitLocator)\n\u001b[0;32m     26\u001b[0m \u001b[38;5;28;01mfrom\u001b[39;00m \u001b[38;5;21;01mmatplotlib\u001b[39;00m\u001b[38;5;21;01m.\u001b[39;00m\u001b[38;5;21;01mtransforms\u001b[39;00m \u001b[38;5;28;01mimport\u001b[39;00m Transform, IdentityTransform\n\u001b[0;32m     29\u001b[0m \u001b[38;5;28;01mclass\u001b[39;00m \u001b[38;5;21;01mScaleBase\u001b[39;00m:\n",
      "File \u001b[1;32mc:\\Users\\jaswe\\OneDrive\\Desktop\\opt\\Projects\\mlproject\\venv\\lib\\site-packages\\matplotlib\\ticker.py:138\u001b[0m\n\u001b[0;32m    136\u001b[0m \u001b[38;5;28;01mimport\u001b[39;00m \u001b[38;5;21;01mmatplotlib\u001b[39;00m \u001b[38;5;28;01mas\u001b[39;00m \u001b[38;5;21;01mmpl\u001b[39;00m\n\u001b[0;32m    137\u001b[0m \u001b[38;5;28;01mfrom\u001b[39;00m \u001b[38;5;21;01mmatplotlib\u001b[39;00m \u001b[38;5;28;01mimport\u001b[39;00m _api, cbook\n\u001b[1;32m--> 138\u001b[0m \u001b[38;5;28;01mfrom\u001b[39;00m \u001b[38;5;21;01mmatplotlib\u001b[39;00m \u001b[38;5;28;01mimport\u001b[39;00m transforms \u001b[38;5;28;01mas\u001b[39;00m mtransforms\n\u001b[0;32m    140\u001b[0m _log \u001b[38;5;241m=\u001b[39m logging\u001b[38;5;241m.\u001b[39mgetLogger(\u001b[38;5;18m__name__\u001b[39m)\n\u001b[0;32m    142\u001b[0m __all__ \u001b[38;5;241m=\u001b[39m (\u001b[38;5;124m'\u001b[39m\u001b[38;5;124mTickHelper\u001b[39m\u001b[38;5;124m'\u001b[39m, \u001b[38;5;124m'\u001b[39m\u001b[38;5;124mFormatter\u001b[39m\u001b[38;5;124m'\u001b[39m, \u001b[38;5;124m'\u001b[39m\u001b[38;5;124mFixedFormatter\u001b[39m\u001b[38;5;124m'\u001b[39m,\n\u001b[0;32m    143\u001b[0m            \u001b[38;5;124m'\u001b[39m\u001b[38;5;124mNullFormatter\u001b[39m\u001b[38;5;124m'\u001b[39m, \u001b[38;5;124m'\u001b[39m\u001b[38;5;124mFuncFormatter\u001b[39m\u001b[38;5;124m'\u001b[39m, \u001b[38;5;124m'\u001b[39m\u001b[38;5;124mFormatStrFormatter\u001b[39m\u001b[38;5;124m'\u001b[39m,\n\u001b[0;32m    144\u001b[0m            \u001b[38;5;124m'\u001b[39m\u001b[38;5;124mStrMethodFormatter\u001b[39m\u001b[38;5;124m'\u001b[39m, \u001b[38;5;124m'\u001b[39m\u001b[38;5;124mScalarFormatter\u001b[39m\u001b[38;5;124m'\u001b[39m, \u001b[38;5;124m'\u001b[39m\u001b[38;5;124mLogFormatter\u001b[39m\u001b[38;5;124m'\u001b[39m,\n\u001b[1;32m   (...)\u001b[0m\n\u001b[0;32m    150\u001b[0m            \u001b[38;5;124m'\u001b[39m\u001b[38;5;124mMultipleLocator\u001b[39m\u001b[38;5;124m'\u001b[39m, \u001b[38;5;124m'\u001b[39m\u001b[38;5;124mMaxNLocator\u001b[39m\u001b[38;5;124m'\u001b[39m, \u001b[38;5;124m'\u001b[39m\u001b[38;5;124mAutoMinorLocator\u001b[39m\u001b[38;5;124m'\u001b[39m,\n\u001b[0;32m    151\u001b[0m            \u001b[38;5;124m'\u001b[39m\u001b[38;5;124mSymmetricalLogLocator\u001b[39m\u001b[38;5;124m'\u001b[39m, \u001b[38;5;124m'\u001b[39m\u001b[38;5;124mAsinhLocator\u001b[39m\u001b[38;5;124m'\u001b[39m, \u001b[38;5;124m'\u001b[39m\u001b[38;5;124mLogitLocator\u001b[39m\u001b[38;5;124m'\u001b[39m)\n",
      "File \u001b[1;32mc:\\Users\\jaswe\\OneDrive\\Desktop\\opt\\Projects\\mlproject\\venv\\lib\\site-packages\\matplotlib\\transforms.py:49\u001b[0m\n\u001b[0;32m     46\u001b[0m \u001b[38;5;28;01mfrom\u001b[39;00m \u001b[38;5;21;01mnumpy\u001b[39;00m\u001b[38;5;21;01m.\u001b[39;00m\u001b[38;5;21;01mlinalg\u001b[39;00m \u001b[38;5;28;01mimport\u001b[39;00m inv\n\u001b[0;32m     48\u001b[0m \u001b[38;5;28;01mfrom\u001b[39;00m \u001b[38;5;21;01mmatplotlib\u001b[39;00m \u001b[38;5;28;01mimport\u001b[39;00m _api\n\u001b[1;32m---> 49\u001b[0m \u001b[38;5;28;01mfrom\u001b[39;00m \u001b[38;5;21;01mmatplotlib\u001b[39;00m\u001b[38;5;21;01m.\u001b[39;00m\u001b[38;5;21;01m_path\u001b[39;00m \u001b[38;5;28;01mimport\u001b[39;00m (\n\u001b[0;32m     50\u001b[0m     affine_transform, count_bboxes_overlapping_bbox, update_path_extents)\n\u001b[0;32m     51\u001b[0m \u001b[38;5;28;01mfrom\u001b[39;00m \u001b[38;5;21;01m.\u001b[39;00m\u001b[38;5;21;01mpath\u001b[39;00m \u001b[38;5;28;01mimport\u001b[39;00m Path\n\u001b[0;32m     53\u001b[0m DEBUG \u001b[38;5;241m=\u001b[39m \u001b[38;5;28;01mFalse\u001b[39;00m\n",
      "\u001b[1;31mImportError\u001b[0m: DLL load failed while importing _path: The specified module could not be found."
     ]
    }
   ],
   "source": [
    "import seaborn as sns\n",
    "df_t = sns.load_dataset('titanic')"
   ]
  },
  {
   "cell_type": "code",
   "execution_count": null,
   "id": "a2c1c689",
   "metadata": {},
   "outputs": [
    {
     "ename": "ModuleNotFoundError",
     "evalue": "No module named 'dtale'",
     "output_type": "error",
     "traceback": [
      "\u001b[1;31m---------------------------------------------------------------------------\u001b[0m",
      "\u001b[1;31mModuleNotFoundError\u001b[0m                       Traceback (most recent call last)",
      "Cell \u001b[1;32mIn[25], line 1\u001b[0m\n\u001b[1;32m----> 1\u001b[0m \u001b[38;5;28;01mimport\u001b[39;00m \u001b[38;5;21;01mdtale\u001b[39;00m\n",
      "\u001b[1;31mModuleNotFoundError\u001b[0m: No module named 'dtale'"
     ]
    }
   ],
   "source": [
    "import dtale\n"
   ]
  },
  {
   "cell_type": "code",
   "execution_count": null,
   "id": "a589b9b2",
   "metadata": {},
   "outputs": [],
   "source": []
  },
  {
   "cell_type": "code",
   "execution_count": null,
   "id": "e3f3f3b5",
   "metadata": {},
   "outputs": [],
   "source": []
  },
  {
   "cell_type": "code",
   "execution_count": null,
   "id": "113525ad",
   "metadata": {},
   "outputs": [],
   "source": []
  },
  {
   "cell_type": "code",
   "execution_count": null,
   "id": "cca460d2",
   "metadata": {},
   "outputs": [],
   "source": []
  },
  {
   "cell_type": "code",
   "execution_count": null,
   "id": "a98b391f",
   "metadata": {},
   "outputs": [],
   "source": []
  },
  {
   "cell_type": "code",
   "execution_count": null,
   "id": "72d3b049",
   "metadata": {},
   "outputs": [],
   "source": []
  },
  {
   "cell_type": "code",
   "execution_count": null,
   "id": "cd2ade1d",
   "metadata": {},
   "outputs": [],
   "source": []
  }
 ],
 "metadata": {
  "kernelspec": {
   "display_name": "Python 3",
   "language": "python",
   "name": "python3"
  },
  "language_info": {
   "codemirror_mode": {
    "name": "ipython",
    "version": 3
   },
   "file_extension": ".py",
   "mimetype": "text/x-python",
   "name": "python",
   "nbconvert_exporter": "python",
   "pygments_lexer": "ipython3",
   "version": "3.8.20"
  }
 },
 "nbformat": 4,
 "nbformat_minor": 5
}
